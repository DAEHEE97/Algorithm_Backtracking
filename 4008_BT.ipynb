{
 "cells": [
  {
   "cell_type": "markdown",
   "id": "fc30f8eb",
   "metadata": {},
   "source": [
    "# [4008. [모의 SW 역량테스트] 숫자 만들기](https://swexpertacademy.com/main/code/problem/problemDetail.do?contestProbId=AWIeRZV6kBUDFAVH)"
   ]
  },
  {
   "cell_type": "markdown",
   "id": "3cb90cee",
   "metadata": {},
   "source": [
    "---"
   ]
  },
  {
   "cell_type": "code",
   "execution_count": null,
   "id": "f96d0087",
   "metadata": {},
   "outputs": [],
   "source": [
    "def dfs(n, num, add, sub, mul, div):\n",
    "    \n",
    "    global mn, mx\n",
    "    \n",
    "    if n == N:\n",
    "        \n",
    "        mn = min(mn, num)\n",
    "        \n",
    "        mx = max(mx, num)\n",
    "        \n",
    "        return\n",
    "    \n",
    "    if add: \n",
    "        dfs(n+1, num+lst[n], add-1, sub, mul, div)\n",
    "    \n",
    "    if sub: \n",
    "        dfs(n+1, num-lst[n], add, sub-1, mul, div)\n",
    "    \n",
    "    if mul: \n",
    "        dfs(n+1, num*lst[n], add, sub, mul-1, div)\n",
    "    \n",
    "    if div: \n",
    "        dfs(n+1, int(num/lst[n]), add, sub, mul, div-1)\n",
    " \n"
   ]
  },
  {
   "cell_type": "code",
   "execution_count": null,
   "id": "3d8d55eb",
   "metadata": {},
   "outputs": [],
   "source": [
    "T = int(input())\n",
    "\n",
    "for test_case in range(1, T + 1):\n",
    "\n",
    "    N = int(input())\n",
    "    \n",
    "    add, sub, mul, div = map(int, input().split())\n",
    "    \n",
    "    lst = list(map(int, input().split()))\n",
    "    \n",
    "    mn = int(1e8)\n",
    "    \n",
    "    mx = int(-1e8)\n",
    "    \n",
    "    dfs(1, lst[0], add, sub, mul, div)\n",
    "    \n",
    "    print(f'#{test_case} {mx-mn}')"
   ]
  }
 ],
 "metadata": {
  "kernelspec": {
   "display_name": "Python 3 (ipykernel)",
   "language": "python",
   "name": "python3"
  },
  "language_info": {
   "codemirror_mode": {
    "name": "ipython",
    "version": 3
   },
   "file_extension": ".py",
   "mimetype": "text/x-python",
   "name": "python",
   "nbconvert_exporter": "python",
   "pygments_lexer": "ipython3",
   "version": "3.8.16"
  },
  "toc": {
   "base_numbering": 1,
   "nav_menu": {},
   "number_sections": true,
   "sideBar": true,
   "skip_h1_title": false,
   "title_cell": "Table of Contents",
   "title_sidebar": "Contents",
   "toc_cell": false,
   "toc_position": {},
   "toc_section_display": true,
   "toc_window_display": false
  },
  "varInspector": {
   "cols": {
    "lenName": 16,
    "lenType": 16,
    "lenVar": 40
   },
   "kernels_config": {
    "python": {
     "delete_cmd_postfix": "",
     "delete_cmd_prefix": "del ",
     "library": "var_list.py",
     "varRefreshCmd": "print(var_dic_list())"
    },
    "r": {
     "delete_cmd_postfix": ") ",
     "delete_cmd_prefix": "rm(",
     "library": "var_list.r",
     "varRefreshCmd": "cat(var_dic_list()) "
    }
   },
   "types_to_exclude": [
    "module",
    "function",
    "builtin_function_or_method",
    "instance",
    "_Feature"
   ],
   "window_display": false
  }
 },
 "nbformat": 4,
 "nbformat_minor": 5
}
