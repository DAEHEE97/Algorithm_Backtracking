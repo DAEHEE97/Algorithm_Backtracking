{
 "cells": [
  {
   "cell_type": "markdown",
   "id": "86f457fe",
   "metadata": {},
   "source": [
    "# 5189. [파이썬 S/W 문제해결 구현] 2일차 - 전자카트"
   ]
  },
  {
   "cell_type": "code",
   "execution_count": null,
   "id": "1ef2976c",
   "metadata": {},
   "outputs": [],
   "source": [
    "def dfs(n, sm, cur):\n",
    "    global ans\n",
    "    if ans<=sm:\n",
    "        return\n",
    " \n",
    "    if n==N:\n",
    "        # 여태까지의 소모량 + 1번으로 복귀비용\n",
    "        ans=min(ans, sm+arr[cur][1])\n",
    "        return\n",
    " \n",
    "    for j in range(2, N+1):\n",
    "        if v[j]==0:\n",
    "            v[j]=1\n",
    "            dfs(n+1, sm+arr[cur][j], j)\n",
    "            v[j]=0\n",
    " \n"
   ]
  },
  {
   "cell_type": "code",
   "execution_count": null,
   "id": "57ada326",
   "metadata": {},
   "outputs": [],
   "source": [
    "T = int(input())\n",
    "\n",
    "for test_case in range(1, T + 1):\n",
    "    \n",
    "    N = int(input())\n",
    "    arr = [[0] * (N + 1)] + [[0] + list(map(int, input().split())) for _ in range(N)]\n",
    " \n",
    "    ans = 100*N\n",
    "    \n",
    "    v = [0]*(N+1)\n",
    " \n",
    "    dfs(1, 0, 1)\n",
    "    \n",
    "    print(f'#{test_case} {ans}')"
   ]
  }
 ],
 "metadata": {
  "kernelspec": {
   "display_name": "Python 3 (ipykernel)",
   "language": "python",
   "name": "python3"
  },
  "language_info": {
   "codemirror_mode": {
    "name": "ipython",
    "version": 3
   },
   "file_extension": ".py",
   "mimetype": "text/x-python",
   "name": "python",
   "nbconvert_exporter": "python",
   "pygments_lexer": "ipython3",
   "version": "3.8.16"
  },
  "toc": {
   "base_numbering": 1,
   "nav_menu": {},
   "number_sections": true,
   "sideBar": true,
   "skip_h1_title": false,
   "title_cell": "Table of Contents",
   "title_sidebar": "Contents",
   "toc_cell": false,
   "toc_position": {},
   "toc_section_display": true,
   "toc_window_display": false
  },
  "varInspector": {
   "cols": {
    "lenName": 16,
    "lenType": 16,
    "lenVar": 40
   },
   "kernels_config": {
    "python": {
     "delete_cmd_postfix": "",
     "delete_cmd_prefix": "del ",
     "library": "var_list.py",
     "varRefreshCmd": "print(var_dic_list())"
    },
    "r": {
     "delete_cmd_postfix": ") ",
     "delete_cmd_prefix": "rm(",
     "library": "var_list.r",
     "varRefreshCmd": "cat(var_dic_list()) "
    }
   },
   "types_to_exclude": [
    "module",
    "function",
    "builtin_function_or_method",
    "instance",
    "_Feature"
   ],
   "window_display": false
  }
 },
 "nbformat": 4,
 "nbformat_minor": 5
}
