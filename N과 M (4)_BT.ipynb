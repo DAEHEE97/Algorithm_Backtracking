{
 "cells": [
  {
   "cell_type": "markdown",
   "id": "238b6770",
   "metadata": {},
   "source": [
    "# [N과 M (4)](https://www.acmicpc.net/problem/15652)"
   ]
  },
  {
   "cell_type": "code",
   "execution_count": 9,
   "id": "959da601",
   "metadata": {},
   "outputs": [],
   "source": [
    "def dfs(n, start, lst):         # 멀티트리\n",
    "    \n",
    "    if n == M:                  # M개 선택 완료\n",
    "        \n",
    "        ans.append(lst)\n",
    "        \n",
    "        return\n",
    "\n",
    "    for s in range(start, N+1):\n",
    "        \n",
    "        dfs(n+1, s, lst+[s])\n",
    "        \n"
   ]
  },
  {
   "cell_type": "code",
   "execution_count": 10,
   "id": "f05e74ab",
   "metadata": {},
   "outputs": [
    {
     "name": "stdout",
     "output_type": "stream",
     "text": [
      "4 2\n",
      "1 1\n",
      "1 2\n",
      "1 3\n",
      "1 4\n",
      "2 2\n",
      "2 3\n",
      "2 4\n",
      "3 3\n",
      "3 4\n",
      "4 4\n"
     ]
    }
   ],
   "source": [
    "N, M = map(int, input().split())\n",
    "\n",
    "ans = []\n",
    "\n",
    "dfs(0, 1, [])   # 멀티트리\n",
    "\n",
    "for lst in ans:\n",
    "    print(*lst)"
   ]
  },
  {
   "cell_type": "code",
   "execution_count": null,
   "id": "0a9d8004",
   "metadata": {},
   "outputs": [],
   "source": []
  },
  {
   "cell_type": "markdown",
   "id": "bb338eb0",
   "metadata": {},
   "source": [
    "---"
   ]
  },
  {
   "cell_type": "code",
   "execution_count": 17,
   "id": "b02c23a7",
   "metadata": {},
   "outputs": [],
   "source": [
    "def dfs(n, lst):        # 이진트리\n",
    "    \n",
    "    \n",
    "    # 1. 종료조건, 정답 처리, n은 1~N 포함 선택 O X\n",
    "    # 정답처리\n",
    "    if n > N:             \n",
    "        \n",
    "        if len(lst) == M: \n",
    "            ans.append(lst)\n",
    "        \n",
    "        return\n",
    "\n",
    "    # 2. 하부 함수\n",
    "    dfs(n+1, lst+[n])   # 선택하는 경우\n",
    "    \n",
    "    dfs(n+1, lst)       # 선택하지 않는 경우\n"
   ]
  },
  {
   "cell_type": "code",
   "execution_count": 18,
   "id": "a7d83519",
   "metadata": {},
   "outputs": [
    {
     "name": "stdout",
     "output_type": "stream",
     "text": [
      "4 2\n",
      "0 1\n",
      "0 2\n",
      "0 3\n",
      "0 4\n",
      "1 2\n",
      "1 3\n",
      "1 4\n",
      "2 3\n",
      "2 4\n",
      "3 4\n"
     ]
    }
   ],
   "source": [
    "N, M = map(int, input().split())\n",
    "\n",
    "ans = []\n",
    "\n",
    "dfs(1, [])    # 이진트리\n",
    "\n",
    "for lst in ans:\n",
    "    print(*lst)"
   ]
  },
  {
   "cell_type": "code",
   "execution_count": null,
   "id": "36923c08",
   "metadata": {},
   "outputs": [],
   "source": []
  }
 ],
 "metadata": {
  "kernelspec": {
   "display_name": "Python 3 (ipykernel)",
   "language": "python",
   "name": "python3"
  },
  "language_info": {
   "codemirror_mode": {
    "name": "ipython",
    "version": 3
   },
   "file_extension": ".py",
   "mimetype": "text/x-python",
   "name": "python",
   "nbconvert_exporter": "python",
   "pygments_lexer": "ipython3",
   "version": "3.8.16"
  },
  "toc": {
   "base_numbering": 1,
   "nav_menu": {},
   "number_sections": true,
   "sideBar": true,
   "skip_h1_title": false,
   "title_cell": "Table of Contents",
   "title_sidebar": "Contents",
   "toc_cell": false,
   "toc_position": {},
   "toc_section_display": true,
   "toc_window_display": false
  },
  "varInspector": {
   "cols": {
    "lenName": 16,
    "lenType": 16,
    "lenVar": 40
   },
   "kernels_config": {
    "python": {
     "delete_cmd_postfix": "",
     "delete_cmd_prefix": "del ",
     "library": "var_list.py",
     "varRefreshCmd": "print(var_dic_list())"
    },
    "r": {
     "delete_cmd_postfix": ") ",
     "delete_cmd_prefix": "rm(",
     "library": "var_list.r",
     "varRefreshCmd": "cat(var_dic_list()) "
    }
   },
   "types_to_exclude": [
    "module",
    "function",
    "builtin_function_or_method",
    "instance",
    "_Feature"
   ],
   "window_display": false
  }
 },
 "nbformat": 4,
 "nbformat_minor": 5
}
