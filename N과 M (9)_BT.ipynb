{
 "cells": [
  {
   "cell_type": "markdown",
   "id": "6267e99c",
   "metadata": {},
   "source": [
    "# [N과 M (9)](https://www.acmicpc.net/problem/15663)"
   ]
  },
  {
   "cell_type": "markdown",
   "id": "f1fa1fbb",
   "metadata": {},
   "source": [
    "---"
   ]
  },
  {
   "cell_type": "markdown",
   "id": "364d07d8",
   "metadata": {},
   "source": [
    "- 열트리\n",
    "\n",
    "- n은 M 종료\n",
    "\n",
    "- set 안에 리스트 삽입 x, tuple 은 가능\n",
    "\n",
    "- set 출력은 랜덤"
   ]
  },
  {
   "cell_type": "code",
   "execution_count": 6,
   "id": "013bb1fd",
   "metadata": {},
   "outputs": [],
   "source": [
    "def bfs(n, tmp):\n",
    "    \n",
    "        \n",
    "    if n == M :\n",
    "        \n",
    "        ans.append(tuple(tmp))\n",
    "        \n",
    "        return \n",
    "    \n",
    "    \n",
    "    # idx 중복 x\n",
    "    \n",
    "    for j in range(0, N):\n",
    "        \n",
    "        if v[j] == 0:\n",
    "            \n",
    "            v[j] = 1\n",
    "            \n",
    "            bfs(n+1, tmp + [lst[j]] )\n",
    "            \n",
    "            v[j] = 0\n",
    "    \n",
    "    "
   ]
  },
  {
   "cell_type": "code",
   "execution_count": 10,
   "id": "19d89388",
   "metadata": {},
   "outputs": [
    {
     "name": "stdout",
     "output_type": "stream",
     "text": [
      "4 2\n",
      "9 7 9 1\n",
      "1 7\n",
      "1 9\n",
      "7 1\n",
      "7 9\n",
      "9 1\n",
      "9 7\n",
      "9 9\n"
     ]
    }
   ],
   "source": [
    "N, M = map(int, input().split())\n",
    "\n",
    "lst = list(map(int, input().split()))\n",
    "\n",
    "lst.sort()\n",
    "\n",
    "v = [0] * (N+1)\n",
    "\n",
    "\n",
    "ans = []\n",
    "\n",
    "sset = set()\n",
    "\n",
    "bfs(0, [])\n",
    "\n",
    "\n",
    "for l in ans:\n",
    "    sset.add(l)\n",
    "    \n",
    "ans = []\n",
    "\n",
    "for l in sset:\n",
    "    ans.append(l)\n",
    "\n",
    "if M == 1:\n",
    "    ans.sort(key = lambda x : x[0])\n",
    "\n",
    "else:\n",
    "    for i in range(M-1,-1,-1):\n",
    "        ans.sort(key = lambda x : x[i])\n",
    "\n",
    "        \n",
    "\n",
    "for l in ans:\n",
    "    print(*l)"
   ]
  },
  {
   "cell_type": "code",
   "execution_count": 9,
   "id": "f27f1787",
   "metadata": {},
   "outputs": [
    {
     "name": "stdout",
     "output_type": "stream",
     "text": [
      "2\n",
      "1\n",
      "0\n"
     ]
    }
   ],
   "source": [
    "for i in range(2,-1,-1):\n",
    "    print(i)"
   ]
  }
 ],
 "metadata": {
  "kernelspec": {
   "display_name": "Python 3 (ipykernel)",
   "language": "python",
   "name": "python3"
  },
  "language_info": {
   "codemirror_mode": {
    "name": "ipython",
    "version": 3
   },
   "file_extension": ".py",
   "mimetype": "text/x-python",
   "name": "python",
   "nbconvert_exporter": "python",
   "pygments_lexer": "ipython3",
   "version": "3.8.16"
  },
  "toc": {
   "base_numbering": 1,
   "nav_menu": {},
   "number_sections": true,
   "sideBar": true,
   "skip_h1_title": false,
   "title_cell": "Table of Contents",
   "title_sidebar": "Contents",
   "toc_cell": false,
   "toc_position": {},
   "toc_section_display": true,
   "toc_window_display": false
  },
  "varInspector": {
   "cols": {
    "lenName": 16,
    "lenType": 16,
    "lenVar": 40
   },
   "kernels_config": {
    "python": {
     "delete_cmd_postfix": "",
     "delete_cmd_prefix": "del ",
     "library": "var_list.py",
     "varRefreshCmd": "print(var_dic_list())"
    },
    "r": {
     "delete_cmd_postfix": ") ",
     "delete_cmd_prefix": "rm(",
     "library": "var_list.r",
     "varRefreshCmd": "cat(var_dic_list()) "
    }
   },
   "types_to_exclude": [
    "module",
    "function",
    "builtin_function_or_method",
    "instance",
    "_Feature"
   ],
   "window_display": false
  }
 },
 "nbformat": 4,
 "nbformat_minor": 5
}
