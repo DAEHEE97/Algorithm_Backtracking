{
 "cells": [
  {
   "cell_type": "markdown",
   "id": "ffdd1bf3",
   "metadata": {},
   "source": [
    "# [5209. [파이썬 S/W 문제해결 구현] 5일차 - 최소 생산 비용](https://swexpertacademy.com/main/learn/course/subjectDetail.do?courseId=AVuPDYSqAAbw5UW6&subjectId=AWUYGf7K180DFAVT)"
   ]
  },
  {
   "cell_type": "markdown",
   "id": "363f0dd3",
   "metadata": {},
   "source": [
    "---"
   ]
  },
  {
   "cell_type": "markdown",
   "id": "f6bc4dd7",
   "metadata": {},
   "source": [
    "- v 방문 표시 리스트 idx 로 중복 처리 \n",
    "- n = 15, 15 ** 15 케이스 시간초과, -> 가지치기 "
   ]
  },
  {
   "cell_type": "code",
   "execution_count": null,
   "id": "8221a502",
   "metadata": {},
   "outputs": [],
   "source": [
    "def dfs(n, sm):\n",
    "    \n",
    "    global ans\n",
    "    \n",
    "    if ans<=sm:\n",
    "        return\n",
    "     \n",
    "    if n==N:\n",
    "        ans = min(ans, sm)\n",
    "        return\n",
    "    \n",
    "    for j in range(N):\n",
    "        \n",
    "        if v[j]==0:\n",
    "            \n",
    "            v[j]=1\n",
    "            \n",
    "            dfs(n+1, sm+arr[n][j])\n",
    "            \n",
    "            v[j]=0\n",
    " \n"
   ]
  },
  {
   "cell_type": "code",
   "execution_count": null,
   "id": "b80285d5",
   "metadata": {},
   "outputs": [],
   "source": [
    "T = int(input())\n",
    "\n",
    "for test_case in range(1, T + 1):\n",
    "    \n",
    "    N = int(input())\n",
    "    \n",
    "    arr = [list(map(int, input().split())) for _ in range(N)]\n",
    "    \n",
    "    ans = 100*N\n",
    "    \n",
    "    v = [0]*(N)\n",
    "    \n",
    "    dfs(0, 0)\n",
    "    \n",
    "    print(f'#{test_case} {ans}')"
   ]
  },
  {
   "cell_type": "markdown",
   "id": "96fe8fa9",
   "metadata": {},
   "source": [
    "---"
   ]
  },
  {
   "cell_type": "markdown",
   "id": "5946be8b",
   "metadata": {},
   "source": [
    "- v 방문 표시 리스트를 []에서 처리, 값을 사용할 경우, append, 빼면서 pop"
   ]
  },
  {
   "cell_type": "code",
   "execution_count": null,
   "id": "e755e423",
   "metadata": {},
   "outputs": [],
   "source": [
    "def dfs(n, sm):\n",
    "    \n",
    "    global ans\n",
    "    \n",
    "    if ans<=sm:\n",
    "        return\n",
    "     \n",
    "    if n==N:\n",
    "        ans = min(ans, sm)\n",
    "        return\n",
    "    \n",
    "    for j in range(N):\n",
    "        \n",
    "        if j not in v:\n",
    "            \n",
    "            v.append(j)\n",
    "            \n",
    "            dfs(n+1, sm+arr[n][j])\n",
    "            \n",
    "            v.pop()\n",
    " \n"
   ]
  },
  {
   "cell_type": "code",
   "execution_count": null,
   "id": "fde888ff",
   "metadata": {},
   "outputs": [],
   "source": [
    "T = int(input())\n",
    "\n",
    "for test_case in range(1, T + 1):\n",
    "    \n",
    "    N = int(input())\n",
    "    \n",
    "    arr = [list(map(int, input().split())) for _ in range(N)]\n",
    "    \n",
    "    ans = 100*N\n",
    "    \n",
    "    v = []\n",
    "    \n",
    "    dfs(0, 0)\n",
    "    \n",
    "    print(f'#{test_case} {ans}')"
   ]
  },
  {
   "cell_type": "markdown",
   "id": "61b1b52e",
   "metadata": {},
   "source": [
    "---"
   ]
  },
  {
   "cell_type": "markdown",
   "id": "c3aed020",
   "metadata": {},
   "source": [
    "- 방문 표시 리스트 v를 local 로 처리\n",
    "\n",
    "- 더하고 빼는 과정을 할 필요 없음. local 이니까"
   ]
  },
  {
   "cell_type": "code",
   "execution_count": null,
   "id": "5fe35884",
   "metadata": {},
   "outputs": [],
   "source": [
    "def dfs(n, sm, v):\n",
    "    \n",
    "    global ans\n",
    "    \n",
    "    if ans<=sam:\n",
    "        return\n",
    "     \n",
    "    if n==N:\n",
    "        ans = min(ans, sm)\n",
    "        return\n",
    "    \n",
    "    for j in range(N):\n",
    "        \n",
    "        if j not in v:\n",
    "                        \n",
    "            dfs(n+1, sm+arr[n][j], v+[j])\n",
    "            \n",
    " \n"
   ]
  },
  {
   "cell_type": "code",
   "execution_count": null,
   "id": "2762afd4",
   "metadata": {},
   "outputs": [],
   "source": [
    "T = int(input())\n",
    "\n",
    "for test_case in range(1, T+1):\n",
    "    \n",
    "    N = int(input())\n",
    "    \n",
    "    arr = [list(map(int, input().split())) for _ in range(N)]\n",
    "    \n",
    "    ans = 100*N\n",
    "    \n",
    "    \n",
    "    dfs(0, 0, [])\n",
    "    \n",
    "    print(f'#{test_case} {ans}')"
   ]
  }
 ],
 "metadata": {
  "kernelspec": {
   "display_name": "Python 3 (ipykernel)",
   "language": "python",
   "name": "python3"
  },
  "language_info": {
   "codemirror_mode": {
    "name": "ipython",
    "version": 3
   },
   "file_extension": ".py",
   "mimetype": "text/x-python",
   "name": "python",
   "nbconvert_exporter": "python",
   "pygments_lexer": "ipython3",
   "version": "3.8.16"
  },
  "toc": {
   "base_numbering": 1,
   "nav_menu": {},
   "number_sections": true,
   "sideBar": true,
   "skip_h1_title": false,
   "title_cell": "Table of Contents",
   "title_sidebar": "Contents",
   "toc_cell": false,
   "toc_position": {},
   "toc_section_display": true,
   "toc_window_display": false
  },
  "varInspector": {
   "cols": {
    "lenName": 16,
    "lenType": 16,
    "lenVar": 40
   },
   "kernels_config": {
    "python": {
     "delete_cmd_postfix": "",
     "delete_cmd_prefix": "del ",
     "library": "var_list.py",
     "varRefreshCmd": "print(var_dic_list())"
    },
    "r": {
     "delete_cmd_postfix": ") ",
     "delete_cmd_prefix": "rm(",
     "library": "var_list.r",
     "varRefreshCmd": "cat(var_dic_list()) "
    }
   },
   "types_to_exclude": [
    "module",
    "function",
    "builtin_function_or_method",
    "instance",
    "_Feature"
   ],
   "window_display": false
  }
 },
 "nbformat": 4,
 "nbformat_minor": 5
}
