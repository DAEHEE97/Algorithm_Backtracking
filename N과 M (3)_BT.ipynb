{
 "cells": [
  {
   "cell_type": "markdown",
   "id": "025999b3",
   "metadata": {},
   "source": [
    "# [N과 M (3)_BT](https://www.acmicpc.net/problem/15651)\n",
    "\n"
   ]
  },
  {
   "cell_type": "markdown",
   "id": "0ad6b82c",
   "metadata": {},
   "source": [
    "- 열 트리,\n",
    "\n",
    "- n은 선택된 n의 개수, M개 선택시 종료\n",
    "\n",
    "-  숫자 1부터 N 중 무엇을 포함 할지\n"
   ]
  },
  {
   "cell_type": "markdown",
   "id": "765edf5b",
   "metadata": {},
   "source": [
    "---"
   ]
  },
  {
   "cell_type": "code",
   "execution_count": 1,
   "id": "9aa0f0cf",
   "metadata": {},
   "outputs": [],
   "source": [
    "# n = 0 인 경우 부터 M-1인 경우 까지, 총 M개\n",
    "\n",
    "def dfs(n, lst):\n",
    "    \n",
    "    # 1. 종료조건 (n에 관련) 처리 + 정답처리\n",
    "    if n == M:    \n",
    "        ans.append(lst)\n",
    "        return\n",
    "\n",
    "    # 2. 하부단계(함수) 호출, 1 부터 N 포함\n",
    "    for j in range(1, N+1):\n",
    "        \n",
    "        dfs(n+1, lst+[j])\n",
    "            "
   ]
  },
  {
   "cell_type": "markdown",
   "id": "98bfb627",
   "metadata": {},
   "source": [
    "---"
   ]
  },
  {
   "cell_type": "code",
   "execution_count": 2,
   "id": "2286a752",
   "metadata": {},
   "outputs": [
    {
     "name": "stdout",
     "output_type": "stream",
     "text": [
      "4 2\n",
      "1 1\n",
      "1 2\n",
      "1 3\n",
      "1 4\n",
      "2 1\n",
      "2 2\n",
      "2 3\n",
      "2 4\n",
      "3 1\n",
      "3 2\n",
      "3 3\n",
      "3 4\n",
      "4 1\n",
      "4 2\n",
      "4 3\n",
      "4 4\n"
     ]
    }
   ],
   "source": [
    "# N개 중 M개 pick 종료\n",
    "N, M = map(int, input().split())\n",
    "\n",
    "ans = []            \n",
    "\n",
    "# 0개 부터 하나씩 추가하면서 lst에 삽입하면서 ans 완성\n",
    "dfs(0, [])\n",
    "\n",
    "\n",
    "for lst in ans:\n",
    "    \n",
    "    print(*lst)"
   ]
  },
  {
   "cell_type": "markdown",
   "id": "cbcefeaa",
   "metadata": {},
   "source": [
    "---"
   ]
  },
  {
   "cell_type": "code",
   "execution_count": null,
   "id": "ebb4e5ce",
   "metadata": {},
   "outputs": [],
   "source": []
  },
  {
   "cell_type": "markdown",
   "id": "18102410",
   "metadata": {},
   "source": [
    "## lst"
   ]
  },
  {
   "cell_type": "code",
   "execution_count": 1,
   "id": "ec1d001d",
   "metadata": {},
   "outputs": [],
   "source": [
    "# n = 0 인 경우 부터 M-1인 경우 까지, 총 M개\n",
    "\n",
    "def dfs(n, tmp):\n",
    "    \n",
    "    # 1. 종료조건\n",
    "    # M개 선택 종료\n",
    "    \n",
    "    if n == M:    \n",
    "        ans.append(tmp)\n",
    "        return\n",
    "\n",
    "    # 2. 하부단계(함수) 호출, 조건 없음. 모두 호출 \n",
    "    # lst의 idx \n",
    "    \n",
    "    for j in range(0, N):\n",
    "        \n",
    "        dfs( n+1, tmp + [lst[j]] )\n",
    "            "
   ]
  },
  {
   "cell_type": "code",
   "execution_count": 2,
   "id": "a7b707dd",
   "metadata": {},
   "outputs": [
    {
     "name": "stdout",
     "output_type": "stream",
     "text": [
      "4 2\n",
      "1 1\n",
      "1 2\n",
      "1 3\n",
      "1 4\n",
      "2 1\n",
      "2 2\n",
      "2 3\n",
      "2 4\n",
      "3 1\n",
      "3 2\n",
      "3 3\n",
      "3 4\n",
      "4 1\n",
      "4 2\n",
      "4 3\n",
      "4 4\n"
     ]
    }
   ],
   "source": [
    "# N개 중 M개 pick 종료\n",
    "N, M = map(int, input().split())\n",
    "\n",
    "lst = list(range(1, N+1))\n",
    "\n",
    "ans = []            \n",
    "\n",
    "# 0개 부터 하나씩 추가하면서 lst에 삽입하면서 ans 완성\n",
    "dfs(0, [])\n",
    "\n",
    "\n",
    "for l in ans:\n",
    "    \n",
    "    print(*l)"
   ]
  }
 ],
 "metadata": {
  "kernelspec": {
   "display_name": "Python 3 (ipykernel)",
   "language": "python",
   "name": "python3"
  },
  "language_info": {
   "codemirror_mode": {
    "name": "ipython",
    "version": 3
   },
   "file_extension": ".py",
   "mimetype": "text/x-python",
   "name": "python",
   "nbconvert_exporter": "python",
   "pygments_lexer": "ipython3",
   "version": "3.8.16"
  },
  "toc": {
   "base_numbering": 1,
   "nav_menu": {},
   "number_sections": true,
   "sideBar": true,
   "skip_h1_title": false,
   "title_cell": "Table of Contents",
   "title_sidebar": "Contents",
   "toc_cell": false,
   "toc_position": {},
   "toc_section_display": true,
   "toc_window_display": false
  },
  "varInspector": {
   "cols": {
    "lenName": 16,
    "lenType": 16,
    "lenVar": 40
   },
   "kernels_config": {
    "python": {
     "delete_cmd_postfix": "",
     "delete_cmd_prefix": "del ",
     "library": "var_list.py",
     "varRefreshCmd": "print(var_dic_list())"
    },
    "r": {
     "delete_cmd_postfix": ") ",
     "delete_cmd_prefix": "rm(",
     "library": "var_list.r",
     "varRefreshCmd": "cat(var_dic_list()) "
    }
   },
   "types_to_exclude": [
    "module",
    "function",
    "builtin_function_or_method",
    "instance",
    "_Feature"
   ],
   "window_display": false
  }
 },
 "nbformat": 4,
 "nbformat_minor": 5
}
