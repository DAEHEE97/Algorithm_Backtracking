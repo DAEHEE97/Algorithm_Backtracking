{
 "cells": [
  {
   "cell_type": "markdown",
   "id": "025999b3",
   "metadata": {},
   "source": [
    "# [N과 M (3)_BT](https://www.acmicpc.net/problem/15651)\n"
   ]
  },
  {
   "cell_type": "markdown",
   "id": "12d0523d",
   "metadata": {},
   "source": [
    "---"
   ]
  },
  {
   "cell_type": "markdown",
   "id": "18102410",
   "metadata": {},
   "source": [
    "## 열 트리\n",
    "\n",
    "- 가능한 모든 경우 처리, 열 j 중복 가능\n",
    "\n",
    "- n은 선택된 n의 개수,길이"
   ]
  },
  {
   "cell_type": "code",
   "execution_count": 1,
   "id": "ec1d001d",
   "metadata": {},
   "outputs": [],
   "source": [
    "def dfs(n, tlst):\n",
    "    \n",
    "    # 1. 종료 조건 : 0개 부터 시작, M개 선택 종료\n",
    "    \n",
    "    if n == M:    \n",
    "        \n",
    "        ans.append(tlst)\n",
    "        \n",
    "        return\n",
    "\n",
    "    # 2. 하부단계(함수) 호출, 조건 없음. 모두 호출 \n",
    "    # 2-1) lst의 idx 0 부터 N 전까지, 열 j 처리\n",
    "    # 2-2) 다음 단계로 넘어가면서,  n 개수 ++, j 열 값 추가 리스트에 추가\n",
    "    \n",
    "    for j in range(0, N):\n",
    "        \n",
    "        dfs( n+1, tlst + [lst[j]] )\n",
    "            "
   ]
  },
  {
   "cell_type": "code",
   "execution_count": 3,
   "id": "a7b707dd",
   "metadata": {},
   "outputs": [
    {
     "name": "stdout",
     "output_type": "stream",
     "text": [
      "4 2\n",
      "1 1\n",
      "1 2\n",
      "1 3\n",
      "1 4\n",
      "2 1\n",
      "2 2\n",
      "2 3\n",
      "2 4\n",
      "3 1\n",
      "3 2\n",
      "3 3\n",
      "3 4\n",
      "4 1\n",
      "4 2\n",
      "4 3\n",
      "4 4\n"
     ]
    }
   ],
   "source": [
    "N, M = map(int, input().split())\n",
    "\n",
    "# value lst\n",
    "lst = list(range(1, N+1))\n",
    "\n",
    "# 2d arr\n",
    "ans = []            \n",
    "\n",
    "# 0개 부터 하나씩 추가하면서 lst에 삽입하면서 ans 완성\n",
    "dfs(0, [])\n",
    "\n",
    "for lst in ans:\n",
    "    \n",
    "    print(*lst)"
   ]
  },
  {
   "cell_type": "markdown",
   "id": "8e2e6e36",
   "metadata": {},
   "source": [
    "---"
   ]
  },
  {
   "cell_type": "code",
   "execution_count": 1,
   "id": "d5984988",
   "metadata": {},
   "outputs": [],
   "source": [
    "# n 이 M 이 되면서 종료\n",
    "\n",
    "def dfs(n, tlst):\n",
    "    \n",
    "    if n == M:    \n",
    "        ans.append(lst)\n",
    "        return\n",
    "\n",
    "    # j는 value 1 ~ N 까지 \n",
    "    for j in range(1, N+1):\n",
    "        \n",
    "        dfs(n+1, lst+[j])\n",
    "            "
   ]
  },
  {
   "cell_type": "code",
   "execution_count": 2,
   "id": "fbb686b9",
   "metadata": {},
   "outputs": [
    {
     "name": "stdout",
     "output_type": "stream",
     "text": [
      "4 2\n",
      "1 1\n",
      "1 2\n",
      "1 3\n",
      "1 4\n",
      "2 1\n",
      "2 2\n",
      "2 3\n",
      "2 4\n",
      "3 1\n",
      "3 2\n",
      "3 3\n",
      "3 4\n",
      "4 1\n",
      "4 2\n",
      "4 3\n",
      "4 4\n"
     ]
    }
   ],
   "source": [
    "N, M = map(int, input().split())\n",
    "\n",
    "ans = []            \n",
    "\n",
    "dfs(0, [])\n",
    "\n",
    "for lst in ans:\n",
    "    \n",
    "    print(*lst)"
   ]
  }
 ],
 "metadata": {
  "kernelspec": {
   "display_name": "Python 3 (ipykernel)",
   "language": "python",
   "name": "python3"
  },
  "language_info": {
   "codemirror_mode": {
    "name": "ipython",
    "version": 3
   },
   "file_extension": ".py",
   "mimetype": "text/x-python",
   "name": "python",
   "nbconvert_exporter": "python",
   "pygments_lexer": "ipython3",
   "version": "3.8.16"
  },
  "toc": {
   "base_numbering": 1,
   "nav_menu": {},
   "number_sections": true,
   "sideBar": true,
   "skip_h1_title": false,
   "title_cell": "Table of Contents",
   "title_sidebar": "Contents",
   "toc_cell": false,
   "toc_position": {},
   "toc_section_display": true,
   "toc_window_display": false
  },
  "varInspector": {
   "cols": {
    "lenName": 16,
    "lenType": 16,
    "lenVar": 40
   },
   "kernels_config": {
    "python": {
     "delete_cmd_postfix": "",
     "delete_cmd_prefix": "del ",
     "library": "var_list.py",
     "varRefreshCmd": "print(var_dic_list())"
    },
    "r": {
     "delete_cmd_postfix": ") ",
     "delete_cmd_prefix": "rm(",
     "library": "var_list.r",
     "varRefreshCmd": "cat(var_dic_list()) "
    }
   },
   "types_to_exclude": [
    "module",
    "function",
    "builtin_function_or_method",
    "instance",
    "_Feature"
   ],
   "window_display": false
  }
 },
 "nbformat": 4,
 "nbformat_minor": 5
}
