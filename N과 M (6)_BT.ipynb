{
 "cells": [
  {
   "cell_type": "markdown",
   "id": "a8b9e1a3",
   "metadata": {},
   "source": [
    "# [N과 M (6)_BT](https://www.acmicpc.net/problem/15655)"
   ]
  },
  {
   "cell_type": "markdown",
   "id": "03b1a8dd",
   "metadata": {},
   "source": [
    "---"
   ]
  },
  {
   "cell_type": "markdown",
   "id": "5f89766b",
   "metadata": {},
   "source": [
    "## 이진 트리\n",
    "- n은 lst의 idx\n",
    "- idx 중복 불가, 이진 트리 로 처리 가능\n"
   ]
  },
  {
   "cell_type": "code",
   "execution_count": 1,
   "id": "0ec04f0a",
   "metadata": {},
   "outputs": [],
   "source": [
    "def dfs(n, tmp):\n",
    "\n",
    "\n",
    "    # 1. 종료조건\n",
    "    # n은 idx로 끝까지 진행\n",
    "    # 모두 포함도 가능 정답처리, 모든 경우의 수에서 길이가 2인 \n",
    "    \n",
    "    if n == N:\n",
    "        \n",
    "        if len(tmp) == M:\n",
    "            ans.append(tmp)\n",
    "        \n",
    "        return\n",
    "    \n",
    "    # 이진트리\n",
    "    \n",
    "    dfs(n+1, tmp + [lst[n]] )\n",
    "    \n",
    "    dfs(n+1, tmp )"
   ]
  },
  {
   "cell_type": "code",
   "execution_count": 2,
   "id": "abffca61",
   "metadata": {},
   "outputs": [
    {
     "name": "stdout",
     "output_type": "stream",
     "text": [
      "4 2\n",
      "1 7 9 9\n",
      "1 7\n",
      "1 9\n",
      "1 9\n",
      "7 9\n",
      "7 9\n",
      "9 9\n"
     ]
    }
   ],
   "source": [
    "N, M = map(int, input().split())\n",
    "\n",
    "lst = list(map(int, input().split()))\n",
    "\n",
    "lst.sort()\n",
    "\n",
    "ans = []\n",
    "\n",
    "# idx 0 부터 시작 \n",
    "dfs(0, [])\n",
    "\n",
    "for l in ans:\n",
    "    print(*l)"
   ]
  },
  {
   "cell_type": "markdown",
   "id": "34af4d9b",
   "metadata": {},
   "source": [
    "#### ---"
   ]
  },
  {
   "cell_type": "markdown",
   "id": "843dd078",
   "metadata": {},
   "source": [
    "## 열 트리\n",
    "\n",
    "- 가능한 모든 경우의 수 처리, (같은 idx j 를 여러번 골라도 됨) - idx 0, idx 0 가능\n",
    "\n",
    "- 선택 가능한 j 조건, start 변수를 이용해서 다음 꺼 부터 처리 \n",
    "\n",
    "- (중복되는 수열 가능)\n"
   ]
  },
  {
   "cell_type": "code",
   "execution_count": 1,
   "id": "6962ff32",
   "metadata": {},
   "outputs": [],
   "source": [
    "# n은 선택된 숫자의 개수\n",
    "def dfs(n, tmp, start):\n",
    "    \n",
    "    # 1. 종료 조건\n",
    "    if n == M :\n",
    "        \n",
    "        ans.append(tmp)\n",
    "        \n",
    "        return\n",
    "    \n",
    "    \n",
    "    # 2-1) idx 중복 처리 불가 > start + 1 해서 무조건 적인 처리 \n",
    "    # 2-2) start 처리, 다음 턴 j는 start idx, j+1 부터 처리\n",
    "\n",
    "    for j in range(start, N):\n",
    "        \n",
    "        dfs(n+1, tmp+[lst[j]], j+1)\n",
    "    \n",
    "        \n",
    "        \n"
   ]
  },
  {
   "cell_type": "code",
   "execution_count": 2,
   "id": "8540213b",
   "metadata": {},
   "outputs": [
    {
     "name": "stdout",
     "output_type": "stream",
     "text": [
      "4 2\n",
      "1 7 8 9\n"
     ]
    }
   ],
   "source": [
    "N, M = map(int, input().split())\n",
    "\n",
    "lst = list(map(int, input().split()))\n",
    "\n",
    "lst.sort()\n",
    "\n",
    "ans = []\n",
    "\n",
    "# idx 0 부터 시작 \n",
    "dfs(0, [], 0)\n"
   ]
  },
  {
   "cell_type": "code",
   "execution_count": 3,
   "id": "8a49b10d",
   "metadata": {},
   "outputs": [
    {
     "data": {
      "text/plain": [
       "[[1, 7], [1, 8], [1, 9], [7, 8], [7, 9], [8, 9]]"
      ]
     },
     "execution_count": 3,
     "metadata": {},
     "output_type": "execute_result"
    }
   ],
   "source": [
    "ans"
   ]
  },
  {
   "cell_type": "code",
   "execution_count": null,
   "id": "93da5dfb",
   "metadata": {},
   "outputs": [],
   "source": []
  }
 ],
 "metadata": {
  "kernelspec": {
   "display_name": "Python 3 (ipykernel)",
   "language": "python",
   "name": "python3"
  },
  "language_info": {
   "codemirror_mode": {
    "name": "ipython",
    "version": 3
   },
   "file_extension": ".py",
   "mimetype": "text/x-python",
   "name": "python",
   "nbconvert_exporter": "python",
   "pygments_lexer": "ipython3",
   "version": "3.8.16"
  },
  "toc": {
   "base_numbering": 1,
   "nav_menu": {},
   "number_sections": true,
   "sideBar": true,
   "skip_h1_title": false,
   "title_cell": "Table of Contents",
   "title_sidebar": "Contents",
   "toc_cell": false,
   "toc_position": {},
   "toc_section_display": true,
   "toc_window_display": false
  },
  "varInspector": {
   "cols": {
    "lenName": 16,
    "lenType": 16,
    "lenVar": 40
   },
   "kernels_config": {
    "python": {
     "delete_cmd_postfix": "",
     "delete_cmd_prefix": "del ",
     "library": "var_list.py",
     "varRefreshCmd": "print(var_dic_list())"
    },
    "r": {
     "delete_cmd_postfix": ") ",
     "delete_cmd_prefix": "rm(",
     "library": "var_list.r",
     "varRefreshCmd": "cat(var_dic_list()) "
    }
   },
   "types_to_exclude": [
    "module",
    "function",
    "builtin_function_or_method",
    "instance",
    "_Feature"
   ],
   "window_display": false
  }
 },
 "nbformat": 4,
 "nbformat_minor": 5
}
