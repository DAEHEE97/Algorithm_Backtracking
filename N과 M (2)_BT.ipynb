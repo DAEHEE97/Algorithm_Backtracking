{
 "cells": [
  {
   "cell_type": "markdown",
   "id": "899f8611",
   "metadata": {},
   "source": [
    "# N과 M (1)_BT\n",
    "\n",
    "- 백트래킹"
   ]
  },
  {
   "cell_type": "code",
   "execution_count": 17,
   "id": "fdd1f7df",
   "metadata": {},
   "outputs": [
    {
     "name": "stdout",
     "output_type": "stream",
     "text": [
      "4 4\n"
     ]
    }
   ],
   "source": [
    "N, M = map(int, input().split())\n",
    "\n",
    "lst = list(range(1,N+1))"
   ]
  },
  {
   "cell_type": "code",
   "execution_count": 18,
   "id": "81355647",
   "metadata": {},
   "outputs": [
    {
     "data": {
      "text/plain": [
       "[1, 2, 3, 4]"
      ]
     },
     "execution_count": 18,
     "metadata": {},
     "output_type": "execute_result"
    }
   ],
   "source": [
    "lst"
   ]
  },
  {
   "cell_type": "code",
   "execution_count": null,
   "id": "d4a39abc",
   "metadata": {},
   "outputs": [],
   "source": [
    "def dfs(n, lst):\n",
    "    \n",
    "    # 종료조건(n에 관련) 처리+정답처리\n",
    "    \n",
    "    if n == M:    # M개의 수열을 완성\n",
    "        ans.append(lst)\n",
    "        return\n",
    "\n",
    "    # 하부단계(함수) 호출\n",
    "    for j in range(1, N+1):\n",
    "        \n",
    "        if v[j]==0: # 선택하지 않은 숫자인 경우 추가\n",
    "            v[j]=1\n",
    "            dfs(n+1, lst+[j])\n",
    "            v[j]=0\n",
    "\n",
    "N, M = map(int, input().split())\n",
    "\n",
    "ans = []            # 정답 리스트를 저장할 리스트\n",
    "\n",
    "v = [0]*(N+1)       # 중복확인을 위한 visited[]\n",
    "\n",
    "dfs(0, [])\n",
    "\n",
    "for lst in ans:\n",
    "    \n",
    "    print(*lst)"
   ]
  },
  {
   "cell_type": "markdown",
   "id": "fe1adc65",
   "metadata": {},
   "source": [
    "---"
   ]
  },
  {
   "cell_type": "code",
   "execution_count": 14,
   "id": "fcc57cbc",
   "metadata": {},
   "outputs": [],
   "source": [
    "from itertools import permutations"
   ]
  },
  {
   "cell_type": "code",
   "execution_count": 16,
   "id": "a21d05ca",
   "metadata": {},
   "outputs": [
    {
     "name": "stdout",
     "output_type": "stream",
     "text": [
      "1 2\n",
      "1 3\n",
      "1 4\n",
      "2 1\n",
      "2 3\n",
      "2 4\n",
      "3 1\n",
      "3 2\n",
      "3 4\n",
      "4 1\n",
      "4 2\n",
      "4 3\n"
     ]
    }
   ],
   "source": [
    "for tup in permutations(lst, M):\n",
    "    \n",
    "    print(*tup)"
   ]
  },
  {
   "cell_type": "markdown",
   "id": "97fed58c",
   "metadata": {},
   "source": [
    "---"
   ]
  },
  {
   "cell_type": "code",
   "execution_count": 19,
   "id": "9bc541b9",
   "metadata": {},
   "outputs": [],
   "source": [
    "from itertools import combinations"
   ]
  },
  {
   "cell_type": "code",
   "execution_count": 21,
   "id": "13b7419e",
   "metadata": {},
   "outputs": [
    {
     "name": "stdout",
     "output_type": "stream",
     "text": [
      "1 2 3 4\n"
     ]
    }
   ],
   "source": [
    "for tup in combinations(lst, M):\n",
    "    \n",
    "    print(*tup)\n",
    "    "
   ]
  }
 ],
 "metadata": {
  "kernelspec": {
   "display_name": "Python 3 (ipykernel)",
   "language": "python",
   "name": "python3"
  },
  "language_info": {
   "codemirror_mode": {
    "name": "ipython",
    "version": 3
   },
   "file_extension": ".py",
   "mimetype": "text/x-python",
   "name": "python",
   "nbconvert_exporter": "python",
   "pygments_lexer": "ipython3",
   "version": "3.8.16"
  },
  "toc": {
   "base_numbering": 1,
   "nav_menu": {},
   "number_sections": true,
   "sideBar": true,
   "skip_h1_title": false,
   "title_cell": "Table of Contents",
   "title_sidebar": "Contents",
   "toc_cell": false,
   "toc_position": {},
   "toc_section_display": true,
   "toc_window_display": false
  },
  "varInspector": {
   "cols": {
    "lenName": 16,
    "lenType": 16,
    "lenVar": 40
   },
   "kernels_config": {
    "python": {
     "delete_cmd_postfix": "",
     "delete_cmd_prefix": "del ",
     "library": "var_list.py",
     "varRefreshCmd": "print(var_dic_list())"
    },
    "r": {
     "delete_cmd_postfix": ") ",
     "delete_cmd_prefix": "rm(",
     "library": "var_list.r",
     "varRefreshCmd": "cat(var_dic_list()) "
    }
   },
   "types_to_exclude": [
    "module",
    "function",
    "builtin_function_or_method",
    "instance",
    "_Feature"
   ],
   "window_display": false
  }
 },
 "nbformat": 4,
 "nbformat_minor": 5
}
