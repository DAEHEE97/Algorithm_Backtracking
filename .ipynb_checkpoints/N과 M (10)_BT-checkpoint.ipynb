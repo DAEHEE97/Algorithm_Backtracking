{
 "cells": [
  {
   "cell_type": "markdown",
   "id": "a8b9e1a3",
   "metadata": {},
   "source": [
    "# [N과 M (10)_BT](https://www.acmicpc.net/problem/15664)"
   ]
  },
  {
   "cell_type": "markdown",
   "id": "03b1a8dd",
   "metadata": {},
   "source": [
    "---"
   ]
  },
  {
   "cell_type": "markdown",
   "id": "5f89766b",
   "metadata": {},
   "source": [
    "- 가능한 모든 경우의 수 처리, (같은 idx j 를 여러번 골라도 됨) - idx 0, idx 0 가능\n",
    "\n",
    "- 선택 가능한 j 조건, start 변수를 이용해서 다음 꺼 부터 처리 \n",
    "\n",
    "- 중복되는 수열 불가 - prev 처리\n",
    "\n"
   ]
  },
  {
   "cell_type": "code",
   "execution_count": 1,
   "id": "7ed1892e",
   "metadata": {},
   "outputs": [],
   "source": [
    "# 열트리\n",
    "def dfs(n, tmp, start):\n",
    "    \n",
    "    if n == M:\n",
    "        \n",
    "        ans.append(tmp)\n",
    "        return\n",
    "    \n",
    "    \n",
    "    \n",
    "    # 2-1) idx 중복 처리 불가 > start + 1 해서 무조건 적인 처리 \n",
    "    # 2-2) start 처리, 다음 턴 j는 start idx, j+1 부터 처리\n",
    "    # 2-3) 중복되는 수열 불가\n",
    "\n",
    "    prev = 0\n",
    "    \n",
    "    for j in range(start, N):\n",
    "        \n",
    "        if prev != lst[j]:\n",
    "            \n",
    "            dfs(n+1, tmp+[lst[j]], j+1)\n",
    "            \n",
    "            prev = lst[j]"
   ]
  },
  {
   "cell_type": "code",
   "execution_count": 2,
   "id": "b3f6b235",
   "metadata": {},
   "outputs": [
    {
     "name": "stdout",
     "output_type": "stream",
     "text": [
      "4 2\n",
      "1 7 9 9\n",
      "1 7\n",
      "1 9\n",
      "7 9\n",
      "9 9\n"
     ]
    }
   ],
   "source": [
    "N, M = map(int, input().split())\n",
    "\n",
    "lst = list(map(int, input().split()))\n",
    "\n",
    "lst.sort()\n",
    "\n",
    "ans = []\n",
    "\n",
    "dfs(0, [], 0)\n",
    "\n",
    "for l in ans:\n",
    "    print(*l)"
   ]
  },
  {
   "cell_type": "markdown",
   "id": "cd2c7fab",
   "metadata": {},
   "source": [
    "---"
   ]
  },
  {
   "cell_type": "markdown",
   "id": "2c1e57bb",
   "metadata": {},
   "source": [
    "---"
   ]
  },
  {
   "cell_type": "markdown",
   "id": "fcbd5bef",
   "metadata": {},
   "source": [
    "---"
   ]
  },
  {
   "cell_type": "markdown",
   "id": "579e6da2",
   "metadata": {},
   "source": [
    "- 기존 처리"
   ]
  },
  {
   "cell_type": "code",
   "execution_count": 3,
   "id": "76681d50",
   "metadata": {},
   "outputs": [],
   "source": [
    "# n은 선택된 숫자의 개수\n",
    "def dfs(n, tmp, start):\n",
    "    \n",
    "    # 1. 종료 조건\n",
    "    if n == M :\n",
    "        \n",
    "        ans.append(tmp)\n",
    "        \n",
    "        return\n",
    "    \n",
    "    \n",
    "    # 2-1) idx 중복 처리 불가 > start + 1 해서 무조건 적인 처리 \n",
    "    # 2-2) start 처리, 다음 턴 j는 start idx, j+1 부터 처리\n",
    "\n",
    "    for j in range(start, N):\n",
    "        \n",
    "        dfs(n+1, tmp+[lst[j]], j+1)\n",
    "    "
   ]
  },
  {
   "cell_type": "code",
   "execution_count": 4,
   "id": "266ed333",
   "metadata": {},
   "outputs": [
    {
     "name": "stdout",
     "output_type": "stream",
     "text": [
      "4 2\n",
      "1 7 9 9\n"
     ]
    }
   ],
   "source": [
    "N, M = map(int, input().split())\n",
    "\n",
    "lst = list(map(int, input().split()))\n",
    "\n",
    "lst.sort()\n",
    "\n",
    "ans = []\n",
    "\n",
    "# idx 0 부터 시작 \n",
    "dfs(0, [], 0)\n"
   ]
  },
  {
   "cell_type": "code",
   "execution_count": 5,
   "id": "53df6bb8",
   "metadata": {},
   "outputs": [
    {
     "data": {
      "text/plain": [
       "[[1, 7], [1, 9], [1, 9], [7, 9], [7, 9], [9, 9]]"
      ]
     },
     "execution_count": 5,
     "metadata": {},
     "output_type": "execute_result"
    }
   ],
   "source": [
    "ans"
   ]
  },
  {
   "cell_type": "markdown",
   "id": "f31048d7",
   "metadata": {},
   "source": [
    "---"
   ]
  },
  {
   "cell_type": "markdown",
   "id": "45d92f46",
   "metadata": {},
   "source": [
    "---"
   ]
  },
  {
   "cell_type": "markdown",
   "id": "3e37fbc3",
   "metadata": {},
   "source": [
    "---"
   ]
  },
  {
   "cell_type": "code",
   "execution_count": 6,
   "id": "798cce15",
   "metadata": {},
   "outputs": [],
   "source": [
    "\n",
    "def dfs(n, tmp, start):\n",
    "    \n",
    "    if n == M:\n",
    "        ans.append(tmp)\n",
    "        return\n",
    "\n",
    "    # 2-1) idx 중복 불가 > v 리스트로 처리\n",
    "    # 2-2) start 처리, 다음 턴 j는 start idx, j+1 부터 처리, 어차피 v리스트 때문에 j 거름, j+1 로 이동\n",
    "\n",
    "    prev = 0\n",
    "    \n",
    "    for j in range(start, N):\n",
    "        \n",
    "        if v[j] == 0 and prev != lst[j]:\n",
    "            \n",
    "            v[j] = 1\n",
    "            \n",
    "            prev = lst[j]\n",
    "\n",
    "            dfs(n+1, tmp+[lst[j]], j+1)\n",
    "            \n",
    "            v[j] = 0\n",
    "\n"
   ]
  },
  {
   "cell_type": "code",
   "execution_count": 7,
   "id": "1b4ecedc",
   "metadata": {},
   "outputs": [
    {
     "name": "stdout",
     "output_type": "stream",
     "text": [
      "4 2\n",
      "1 7 9 9\n",
      "1 7\n",
      "1 9\n",
      "7 9\n",
      "9 9\n"
     ]
    }
   ],
   "source": [
    "N, M = map(int, input().split())\n",
    "\n",
    "lst = sorted(list(map(int, input().split())))\n",
    "\n",
    "ans = []\n",
    "\n",
    "v = [0] * N\n",
    "\n",
    "dfs(0, [], 0)\n",
    "\n",
    "for l in ans:\n",
    "    print(*l)"
   ]
  }
 ],
 "metadata": {
  "kernelspec": {
   "display_name": "Python 3 (ipykernel)",
   "language": "python",
   "name": "python3"
  },
  "language_info": {
   "codemirror_mode": {
    "name": "ipython",
    "version": 3
   },
   "file_extension": ".py",
   "mimetype": "text/x-python",
   "name": "python",
   "nbconvert_exporter": "python",
   "pygments_lexer": "ipython3",
   "version": "3.8.16"
  },
  "toc": {
   "base_numbering": 1,
   "nav_menu": {},
   "number_sections": true,
   "sideBar": true,
   "skip_h1_title": false,
   "title_cell": "Table of Contents",
   "title_sidebar": "Contents",
   "toc_cell": false,
   "toc_position": {},
   "toc_section_display": true,
   "toc_window_display": false
  },
  "varInspector": {
   "cols": {
    "lenName": 16,
    "lenType": 16,
    "lenVar": 40
   },
   "kernels_config": {
    "python": {
     "delete_cmd_postfix": "",
     "delete_cmd_prefix": "del ",
     "library": "var_list.py",
     "varRefreshCmd": "print(var_dic_list())"
    },
    "r": {
     "delete_cmd_postfix": ") ",
     "delete_cmd_prefix": "rm(",
     "library": "var_list.r",
     "varRefreshCmd": "cat(var_dic_list()) "
    }
   },
   "types_to_exclude": [
    "module",
    "function",
    "builtin_function_or_method",
    "instance",
    "_Feature"
   ],
   "window_display": false
  }
 },
 "nbformat": 4,
 "nbformat_minor": 5
}
