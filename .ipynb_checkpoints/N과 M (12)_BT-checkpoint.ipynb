{
 "cells": [
  {
   "cell_type": "markdown",
   "id": "a8b9e1a3",
   "metadata": {},
   "source": [
    "# [N과 M (12)_BT](https://www.acmicpc.net/problem/15666)"
   ]
  },
  {
   "cell_type": "markdown",
   "id": "03b1a8dd",
   "metadata": {},
   "source": [
    "---"
   ]
  },
  {
   "cell_type": "markdown",
   "id": "bf7e154b",
   "metadata": {},
   "source": [
    "- 가능한 모든 경우 처리\n",
    "\n",
    "- 열트리\n",
    "\n",
    "- 다음 n 중복처리\n",
    "- 같은 순열 x"
   ]
  },
  {
   "cell_type": "markdown",
   "id": "cd2c7fab",
   "metadata": {},
   "source": [
    "---"
   ]
  },
  {
   "cell_type": "code",
   "execution_count": 4,
   "id": "a0b9937b",
   "metadata": {},
   "outputs": [],
   "source": [
    "def dfs(n, tmp, start):         \n",
    "    \n",
    "    if n == M:                  \n",
    "        \n",
    "        ans.append(tmp)\n",
    "        \n",
    "        return\n",
    "\n",
    "    # idx start 부터, N-1 까지, 0부터  \n",
    "    # 반복하면서 실행 \n",
    "    \n",
    "    prev = 0\n",
    "    \n",
    "    for j in range(start, N):\n",
    "        \n",
    "        if prev != lst[j]:\n",
    "            \n",
    "            prev = lst[j]\n",
    "            \n",
    "            dfs(n+1, tmp + [lst[j]], j)\n",
    "            "
   ]
  },
  {
   "cell_type": "code",
   "execution_count": 6,
   "id": "73d33622",
   "metadata": {},
   "outputs": [
    {
     "name": "stdout",
     "output_type": "stream",
     "text": [
      "4 4\n",
      "1 1 2 2\n",
      "1 1 1 1\n",
      "1 1 1 2\n",
      "1 1 2 2\n",
      "1 2 2 2\n",
      "2 2 2 2\n"
     ]
    }
   ],
   "source": [
    "N, M = map(int, input().split())\n",
    "\n",
    "lst = list(map(int, input().split()))\n",
    "lst.sort()\n",
    "\n",
    "ans = []\n",
    "\n",
    "dfs(0, [], 0)   \n",
    "\n",
    "\n",
    "for l in ans:\n",
    "    print(*l)"
   ]
  }
 ],
 "metadata": {
  "kernelspec": {
   "display_name": "Python 3 (ipykernel)",
   "language": "python",
   "name": "python3"
  },
  "language_info": {
   "codemirror_mode": {
    "name": "ipython",
    "version": 3
   },
   "file_extension": ".py",
   "mimetype": "text/x-python",
   "name": "python",
   "nbconvert_exporter": "python",
   "pygments_lexer": "ipython3",
   "version": "3.8.16"
  },
  "toc": {
   "base_numbering": 1,
   "nav_menu": {},
   "number_sections": true,
   "sideBar": true,
   "skip_h1_title": false,
   "title_cell": "Table of Contents",
   "title_sidebar": "Contents",
   "toc_cell": false,
   "toc_position": {},
   "toc_section_display": true,
   "toc_window_display": false
  },
  "varInspector": {
   "cols": {
    "lenName": 16,
    "lenType": 16,
    "lenVar": 40
   },
   "kernels_config": {
    "python": {
     "delete_cmd_postfix": "",
     "delete_cmd_prefix": "del ",
     "library": "var_list.py",
     "varRefreshCmd": "print(var_dic_list())"
    },
    "r": {
     "delete_cmd_postfix": ") ",
     "delete_cmd_prefix": "rm(",
     "library": "var_list.r",
     "varRefreshCmd": "cat(var_dic_list()) "
    }
   },
   "types_to_exclude": [
    "module",
    "function",
    "builtin_function_or_method",
    "instance",
    "_Feature"
   ],
   "window_display": false
  }
 },
 "nbformat": 4,
 "nbformat_minor": 5
}
