{
 "cells": [
  {
   "cell_type": "markdown",
   "id": "0851cbd9",
   "metadata": {},
   "source": [
    "# [16987_계란으로 계란치기](https://www.acmicpc.net/problem/16987)"
   ]
  },
  {
   "cell_type": "markdown",
   "id": "643d4070",
   "metadata": {},
   "source": [
    "- n은 계란(arr)의 idx, [0]내구도, [1]무게\n",
    "- 자기 자신을\n"
   ]
  },
  {
   "cell_type": "code",
   "execution_count": null,
   "id": "1e01623e",
   "metadata": {},
   "outputs": [],
   "source": [
    "def dfs(n, cnt):\n",
    "    \n",
    "    global ans\n",
    "    \n",
    "    if ans >= (cnt+(N-n)*2):  # 끝까지 진행해도 정답 갱신 불가능한 경우 (가지치기)\n",
    "        return\n",
    "\n",
    "    \n",
    "    if n == N:    # 모든 계란을 손에 들고 부딪히기 완료\n",
    "        ans = max(ans, cnt)\n",
    "        return\n",
    "\n",
    "    # 현재 계란이 깨진경우 => 다음 계란으로 이동\n",
    "    if arr[n][0] <= 0:      \n",
    "        dfs(n+1, cnt)\n",
    "    \n",
    "    # 현재 계란 안깨진 상태\n",
    "    else:                   \n",
    "        flag = False        # 한번도 안 부딪혔다면. 다음 계란으로 가야함..\n",
    "        \n",
    "        for j in range(N):  # 하나씩 부딪쳐보기\n",
    "            \n",
    "            # n은 현재 계란, j 는 다음 계란\n",
    "            # 2-1) 자기 자신 제외\n",
    "            # 2-2) 다음 계란이 깨져 있다면 제외\n",
    "            if n == j or arr[j][0] <= 0:\n",
    "                continue\n",
    "            \n",
    "            flag = True\n",
    "            \n",
    "            arr[n][0] -= arr[j][1]\n",
    "            \n",
    "            arr[j][0] -= arr[n][1]\n",
    "            \n",
    "            # bool True -> 1\n",
    "            dfs( n+1, cnt + int(arr[n][0]<=0) + int(arr[j][0]<=0) )\n",
    "            \n",
    "            arr[n][0] += arr[j][1]\n",
    "            \n",
    "            arr[j][0] += arr[n][1]\n",
    "        \n",
    "        # 깨지지 않은 다른 계란이 없다. 하나씩 부딪쳐 봤는데, all continue\n",
    "        # 모두 꺠져 있음 다음 계란으로 이동 \n",
    "        if flag == False:\n",
    "            dfs(n+1, cnt)"
   ]
  },
  {
   "cell_type": "code",
   "execution_count": null,
   "id": "bf533e04",
   "metadata": {},
   "outputs": [],
   "source": [
    "N = int(input())\n",
    "\n",
    "arr = [ list(map(int, input().split())) for _ in range(N) ]\n",
    "\n",
    "ans = 0\n",
    "\n",
    "# 계란index, 깨진계란 개수\n",
    "dfs(0, 0)\n",
    "\n",
    "print(ans)"
   ]
  }
 ],
 "metadata": {
  "kernelspec": {
   "display_name": "Python 3 (ipykernel)",
   "language": "python",
   "name": "python3"
  },
  "language_info": {
   "codemirror_mode": {
    "name": "ipython",
    "version": 3
   },
   "file_extension": ".py",
   "mimetype": "text/x-python",
   "name": "python",
   "nbconvert_exporter": "python",
   "pygments_lexer": "ipython3",
   "version": "3.8.16"
  },
  "toc": {
   "base_numbering": 1,
   "nav_menu": {},
   "number_sections": true,
   "sideBar": true,
   "skip_h1_title": false,
   "title_cell": "Table of Contents",
   "title_sidebar": "Contents",
   "toc_cell": false,
   "toc_position": {},
   "toc_section_display": true,
   "toc_window_display": false
  },
  "varInspector": {
   "cols": {
    "lenName": 16,
    "lenType": 16,
    "lenVar": 40
   },
   "kernels_config": {
    "python": {
     "delete_cmd_postfix": "",
     "delete_cmd_prefix": "del ",
     "library": "var_list.py",
     "varRefreshCmd": "print(var_dic_list())"
    },
    "r": {
     "delete_cmd_postfix": ") ",
     "delete_cmd_prefix": "rm(",
     "library": "var_list.r",
     "varRefreshCmd": "cat(var_dic_list()) "
    }
   },
   "types_to_exclude": [
    "module",
    "function",
    "builtin_function_or_method",
    "instance",
    "_Feature"
   ],
   "window_display": false
  }
 },
 "nbformat": 4,
 "nbformat_minor": 5
}
