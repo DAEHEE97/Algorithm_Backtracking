{
 "cells": [
  {
   "cell_type": "markdown",
   "id": "40fe50c9",
   "metadata": {},
   "source": [
    "# [2580_스도쿠](https://www.acmicpc.net/problem/2580)\n"
   ]
  },
  {
   "cell_type": "markdown",
   "id": "45f7fe02",
   "metadata": {},
   "source": [
    "---\n",
    "- 스도쿠 빈칸 채우기\n",
    "- 빈칸 후보 1~9 모두 만들어서 처리, bruteforce로 처리 방법도 있음\n",
    "- 가능한 모든 경우를 처리해주면서 정답 처리, backtracking으로 cjfl"
   ]
  },
  {
   "cell_type": "markdown",
   "id": "0d93c6a6",
   "metadata": {},
   "source": [
    "---"
   ]
  },
  {
   "cell_type": "markdown",
   "id": "5378e137",
   "metadata": {},
   "source": [
    "0 3 5 4 6 9 2 7 8\n",
    "7 8 2 1 0 5 6 0 9"
   ]
  },
  {
   "cell_type": "code",
   "execution_count": 3,
   "id": "206051e6",
   "metadata": {},
   "outputs": [],
   "source": [
    "def dfs(n):\n",
    "    \n",
    "    # 1. 종료조건\n",
    "    if n == N:                                # 모든 숫자를 채웠다면 출력하고 종료!\n",
    "        \n",
    "        return\n",
    "    \n",
    "    \n",
    "    # 2. 하부 함수 호출 \n",
    "    ci,cj = lst[n]\n",
    "    \n",
    "    for j in range(1, 10):                  # 1~9의 숫자를 하나씩 넣어보기\n",
    "        \n",
    "        #  행에도 사용X         열에도 사용X          3*3사각형에도 사용X 했다면\n",
    "        if j not in vi[ci] and j not in vj[cj] and j not in vs[ci//3][cj//3]:\n",
    "            \n",
    "            vi[ci].add(j)               # 룩업테이블에 해당 숫자 사용표시\n",
    "            vj[cj].add(j)\n",
    "            vs[ci//3][cj//3].add(j)\n",
    "            \n",
    "            arr[ci][cj]=j               # 스도쿠에 숫자 적어놓고\n",
    "            \n",
    "            dfs(n+1)                    # 다음 자리 숫자 정하러..\n",
    "\n",
    "            vi[ci].remove(j)            # 원상복구\n",
    "            vj[cj].remove(j)\n",
    "            vs[ci//3][cj//3].remove(j)"
   ]
  },
  {
   "cell_type": "code",
   "execution_count": 4,
   "id": "96df3769",
   "metadata": {},
   "outputs": [
    {
     "name": "stdout",
     "output_type": "stream",
     "text": [
      "0 3 5 4 6 9 2 7 8\n",
      "7 8 2 1 0 5 6 0 9\n",
      "0 6 0 2 7 8 1 3 5\n",
      "3 2 1 0 4 6 8 9 7\n",
      "8 0 4 9 1 3 5 0 6\n",
      "5 9 6 8 2 0 4 1 3\n",
      "9 1 7 6 5 2 0 8 0\n",
      "6 0 3 7 0 1 9 5 2\n",
      "2 5 8 3 9 4 7 6 0\n"
     ]
    }
   ],
   "source": [
    "arr = [list(map(int, input().split())) for _ in range(9)]\n",
    "\n",
    "lst = []\n",
    "\n",
    "vi = [set() for _ in range(9)]\n",
    "\n",
    "vj = [set() for _ in range(9)]\n",
    "\n",
    "vs = [[set() for _ in range(3)] for _ in range(3)]\n",
    "\n",
    "for i in range(9):\n",
    "    \n",
    "    for j in range(9):\n",
    "    \n",
    "        vi[i].add(arr[i][j])                # 행 중복체크\n",
    "        vj[j].add(arr[i][j])                # 열 중복체크\n",
    "        vs[i // 3][j // 3].add(arr[i][j])   # 3*3 사각형 중복체크\n",
    "        \n",
    "        if arr[i][j] == 0:\n",
    "            lst.append((i,j))               # 숫자를 채워볼 자리 저장\n",
    "            \n",
    "N = len(lst)                                # N개의 자리에 1~9의 숫자를 채워봄!\n",
    "\n",
    "dfs(0)"
   ]
  },
  {
   "cell_type": "code",
   "execution_count": 6,
   "id": "b8bf2c3f",
   "metadata": {},
   "outputs": [
    {
     "data": {
      "text/plain": [
       "[[1, 3, 5, 4, 6, 9, 2, 7, 8],\n",
       " [7, 8, 2, 1, 3, 5, 6, 4, 9],\n",
       " [4, 6, 9, 2, 7, 8, 1, 3, 5],\n",
       " [3, 2, 1, 5, 4, 6, 8, 9, 7],\n",
       " [8, 7, 4, 9, 1, 3, 5, 2, 6],\n",
       " [5, 9, 6, 8, 2, 7, 4, 1, 3],\n",
       " [9, 1, 7, 6, 5, 2, 3, 8, 4],\n",
       " [6, 4, 3, 7, 8, 1, 9, 5, 2],\n",
       " [2, 5, 8, 3, 9, 4, 7, 6, 1]]"
      ]
     },
     "execution_count": 6,
     "metadata": {},
     "output_type": "execute_result"
    }
   ],
   "source": [
    "arr"
   ]
  },
  {
   "cell_type": "code",
   "execution_count": 8,
   "id": "f7950e6b",
   "metadata": {},
   "outputs": [
    {
     "name": "stdout",
     "output_type": "stream",
     "text": [
      "1 3 5 4 6 9 2 7 8\n",
      "7 8 2 1 3 5 6 4 9\n",
      "4 6 9 2 7 8 1 3 5\n",
      "3 2 1 5 4 6 8 9 7\n",
      "8 7 4 9 1 3 5 2 6\n",
      "5 9 6 8 2 7 4 1 3\n",
      "9 1 7 6 5 2 3 8 4\n",
      "6 4 3 7 8 1 9 5 2\n",
      "2 5 8 3 9 4 7 6 1\n"
     ]
    }
   ],
   "source": [
    "for tlst in arr:\n",
    "    print(*tlst)\n"
   ]
  },
  {
   "cell_type": "markdown",
   "id": "e178373f",
   "metadata": {},
   "source": [
    "---"
   ]
  },
  {
   "cell_type": "code",
   "execution_count": null,
   "id": "227b0fa9",
   "metadata": {},
   "outputs": [],
   "source": [
    "def dfs(n):\n",
    "    \n",
    "    # 1. 종료조건\n",
    "    if n == N:                                # 모든 숫자를 채웠다면 출력하고 종료!\n",
    "        \n",
    "        for tlst in arr:\n",
    "            print(*tlst)\n",
    "        exit(0)\n",
    "    \n",
    "    \n",
    "    # 2. 하부 함수 호출 \n",
    "    ci,cj = lst[n]\n",
    "    \n",
    "    for j in range(1, 10):                  # 1~9의 숫자를 하나씩 넣어보기\n",
    "        \n",
    "        #  행에도 사용X         열에도 사용X          3*3사각형에도 사용X 했다면\n",
    "        if j not in vi[ci] and j not in vj[cj] and j not in vs[ci//3][cj//3]:\n",
    "            \n",
    "            vi[ci].add(j)               # 룩업테이블에 해당 숫자 사용표시\n",
    "            vj[cj].add(j)\n",
    "            vs[ci//3][cj//3].add(j)\n",
    "            \n",
    "            arr[ci][cj]=j               # 스도쿠에 숫자 적어놓고\n",
    "            \n",
    "            dfs(n+1)                    # 다음 자리 숫자 정하러..\n",
    "\n",
    "            vi[ci].remove(j)            # 원상복구\n",
    "            vj[cj].remove(j)\n",
    "            vs[ci//3][cj//3].remove(j)\n"
   ]
  }
 ],
 "metadata": {
  "kernelspec": {
   "display_name": "Python 3 (ipykernel)",
   "language": "python",
   "name": "python3"
  },
  "language_info": {
   "codemirror_mode": {
    "name": "ipython",
    "version": 3
   },
   "file_extension": ".py",
   "mimetype": "text/x-python",
   "name": "python",
   "nbconvert_exporter": "python",
   "pygments_lexer": "ipython3",
   "version": "3.8.16"
  },
  "toc": {
   "base_numbering": 1,
   "nav_menu": {},
   "number_sections": true,
   "sideBar": true,
   "skip_h1_title": false,
   "title_cell": "Table of Contents",
   "title_sidebar": "Contents",
   "toc_cell": false,
   "toc_position": {},
   "toc_section_display": true,
   "toc_window_display": false
  },
  "varInspector": {
   "cols": {
    "lenName": 16,
    "lenType": 16,
    "lenVar": 40
   },
   "kernels_config": {
    "python": {
     "delete_cmd_postfix": "",
     "delete_cmd_prefix": "del ",
     "library": "var_list.py",
     "varRefreshCmd": "print(var_dic_list())"
    },
    "r": {
     "delete_cmd_postfix": ") ",
     "delete_cmd_prefix": "rm(",
     "library": "var_list.r",
     "varRefreshCmd": "cat(var_dic_list()) "
    }
   },
   "types_to_exclude": [
    "module",
    "function",
    "builtin_function_or_method",
    "instance",
    "_Feature"
   ],
   "window_display": false
  }
 },
 "nbformat": 4,
 "nbformat_minor": 5
}
