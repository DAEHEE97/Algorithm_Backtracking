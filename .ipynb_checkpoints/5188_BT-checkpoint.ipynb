{
 "cells": [
  {
   "cell_type": "markdown",
   "id": "147914d3",
   "metadata": {},
   "source": [
    "# [5188. [파이썬 S/W 문제해결 구현] 2일차 - 최소합](https://swexpertacademy.com/main/learn/course/subjectDetail.do?subjectId=AWUYDrI61lYDFAVT#)\n",
    "\n",
    "- 파이썬 SW문제해결 응용_구현 - 02 완전 검색\n"
   ]
  },
  {
   "cell_type": "markdown",
   "id": "5a70718d",
   "metadata": {},
   "source": [
    "---"
   ]
  },
  {
   "cell_type": "markdown",
   "id": "22fece9f",
   "metadata": {},
   "source": [
    "- n은 N에 크기에 따른 연산 가능 횟수\n",
    "\n",
    "- 가능한 모든 경우 처리하면서, 최소 값 구함\n",
    "\n",
    "- 이진 트리 형태 x, 1. 오른쪽 이동 2. 왼쪽 이동 x 복원 처리 x"
   ]
  },
  {
   "cell_type": "markdown",
   "id": "4a99082d",
   "metadata": {},
   "source": [
    "---"
   ]
  },
  {
   "cell_type": "code",
   "execution_count": 1,
   "id": "b60cdd24",
   "metadata": {},
   "outputs": [],
   "source": [
    "def dfs(n,s,ci,cj):\n",
    "    \n",
    "    global ans\n",
    "    \n",
    "    # 3. 가지치기\n",
    "    if s >= ans:\n",
    "        return\n",
    "    \n",
    "    \n",
    "    # 1. 종료조건, N의 크기에 따른 연산 가능 횟수 \n",
    "    if n == (N-1)*2:\n",
    "        \n",
    "        ans = min(ans,s)\n",
    "        return\n",
    "    \n",
    "    # 2방향, 범위내 \n",
    "    for di,dj in ((1,0),(0,1)):\n",
    "        \n",
    "        ni,nj = ci+di, cj+dj\n",
    "        \n",
    "        if 0<=ni<N and 0<=nj<N:\n",
    "            \n",
    "            dfs(n+1, s+arr[ni][nj],ni,nj)\n"
   ]
  },
  {
   "cell_type": "code",
   "execution_count": 2,
   "id": "25b773d4",
   "metadata": {},
   "outputs": [
    {
     "name": "stdout",
     "output_type": "stream",
     "text": [
      "1\n",
      "3\n",
      "1 2 3\n",
      "2 3 4\n",
      "3 4 5\n",
      "#1 15\n"
     ]
    }
   ],
   "source": [
    "T = int(input())\n",
    "\n",
    "for t in range(1, T+1):\n",
    "    \n",
    "    N = int(input())\n",
    "    \n",
    "    arr = [ list(map(int, input().split())) for _ in range(N) ]\n",
    "    \n",
    "    ans = 100000\n",
    "    \n",
    "    ci,cj = (0,0)\n",
    "    \n",
    "    dfs(0,arr[ci][cj],ci,cj)\n",
    "    \n",
    "    print(f'#{t} {ans}')\n",
    "    \n",
    "    "
   ]
  }
 ],
 "metadata": {
  "kernelspec": {
   "display_name": "Python 3 (ipykernel)",
   "language": "python",
   "name": "python3"
  },
  "language_info": {
   "codemirror_mode": {
    "name": "ipython",
    "version": 3
   },
   "file_extension": ".py",
   "mimetype": "text/x-python",
   "name": "python",
   "nbconvert_exporter": "python",
   "pygments_lexer": "ipython3",
   "version": "3.8.16"
  },
  "toc": {
   "base_numbering": 1,
   "nav_menu": {},
   "number_sections": true,
   "sideBar": true,
   "skip_h1_title": false,
   "title_cell": "Table of Contents",
   "title_sidebar": "Contents",
   "toc_cell": false,
   "toc_position": {},
   "toc_section_display": true,
   "toc_window_display": false
  },
  "varInspector": {
   "cols": {
    "lenName": 16,
    "lenType": 16,
    "lenVar": 40
   },
   "kernels_config": {
    "python": {
     "delete_cmd_postfix": "",
     "delete_cmd_prefix": "del ",
     "library": "var_list.py",
     "varRefreshCmd": "print(var_dic_list())"
    },
    "r": {
     "delete_cmd_postfix": ") ",
     "delete_cmd_prefix": "rm(",
     "library": "var_list.r",
     "varRefreshCmd": "cat(var_dic_list()) "
    }
   },
   "types_to_exclude": [
    "module",
    "function",
    "builtin_function_or_method",
    "instance",
    "_Feature"
   ],
   "window_display": false
  }
 },
 "nbformat": 4,
 "nbformat_minor": 5
}
