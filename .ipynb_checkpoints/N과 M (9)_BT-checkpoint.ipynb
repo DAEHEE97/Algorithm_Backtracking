{
 "cells": [
  {
   "cell_type": "markdown",
   "id": "6267e99c",
   "metadata": {},
   "source": [
    "# [N과 M (9)](https://www.acmicpc.net/problem/15663)"
   ]
  },
  {
   "cell_type": "markdown",
   "id": "f1fa1fbb",
   "metadata": {},
   "source": [
    "---"
   ]
  },
  {
   "cell_type": "markdown",
   "id": "364d07d8",
   "metadata": {},
   "source": [
    "- 열 트리\n",
    "\n",
    "- 가능한 모든 경우의 수 처리\n",
    "\n",
    "- (같은 idx를 여러번 고를수 없음) - v lst 생성 해 처리 - idx 0, idx 0 불가 \n",
    "\n",
    "- (중복 되는 수열 불가 처리)- 1,3 고르고, 다음 또 1,3 값 불가\n",
    "    - set 처리\n",
    "    - prev 변수 처리\n",
    "    \n",
    "j = 0 부터 시작해서, idx 0 값 이 들어와 있는 상태에서, 이때 다음 lst에 값이 이전 prev 와 같은 값이라면, 처리 x\n",
    "\n"
   ]
  },
  {
   "cell_type": "markdown",
   "id": "14afa4b1",
   "metadata": {},
   "source": [
    "---"
   ]
  },
  {
   "cell_type": "markdown",
   "id": "bc23bad4",
   "metadata": {},
   "source": [
    "## prev 처리"
   ]
  },
  {
   "cell_type": "code",
   "execution_count": 3,
   "id": "e0904be4",
   "metadata": {},
   "outputs": [
    {
     "data": {
      "text/plain": [
       "[[1, 7],\n",
       " [1, 9],\n",
       " [1, 9],\n",
       " [7, 1],\n",
       " [7, 9],\n",
       " [7, 9],\n",
       " [9, 1],\n",
       " [9, 7],\n",
       " [9, 9],\n",
       " [9, 1],\n",
       " [9, 7],\n",
       " [9, 9]]"
      ]
     },
     "execution_count": 3,
     "metadata": {},
     "output_type": "execute_result"
    }
   ],
   "source": [
    "ans # [ 1, 7, 9, 9.] 중복 수열 제외 해야함"
   ]
  },
  {
   "cell_type": "markdown",
   "id": "a2757b52",
   "metadata": {},
   "source": [
    "---"
   ]
  },
  {
   "cell_type": "markdown",
   "id": "b674820d",
   "metadata": {},
   "source": [
    "- 리스트를 오름차순 정렬 상태, 중복 제거, 이전과 같지 않은 경우만 방문 처리\n",
    "- prev"
   ]
  },
  {
   "cell_type": "code",
   "execution_count": 4,
   "id": "27b3b83c",
   "metadata": {},
   "outputs": [],
   "source": [
    "def dfs(n, tmp):\n",
    "    \n",
    "    # 1. 종료조건, n은 선택된 개수 \n",
    "    if n == M:\n",
    "        \n",
    "        ans.append(tmp)\n",
    "        \n",
    "        return\n",
    "    \n",
    "    # 2. 하부 함수\n",
    "    # 2-1) 같은 idx 방문 불가\n",
    "    # 2-2) 다음에 삽입할 값이 이전과 같으면 안됨\n",
    "    \n",
    "    prev = 0\n",
    "    for j in range(0, N):\n",
    "        \n",
    "        if v[j] == 0 and prev!=lst[j]:\n",
    "            \n",
    "            prev = lst[j]\n",
    "            \n",
    "            v[j] = 1\n",
    "            \n",
    "            dfs( n+1, tmp + [lst[j]] )\n",
    "            \n",
    "            v[j] = 0\n",
    "            "
   ]
  },
  {
   "cell_type": "code",
   "execution_count": 5,
   "id": "32da4692",
   "metadata": {},
   "outputs": [
    {
     "name": "stdout",
     "output_type": "stream",
     "text": [
      "4 2\n",
      "1 7 9 9\n"
     ]
    }
   ],
   "source": [
    "N, M = map(int, input().split())\n",
    "\n",
    "lst = list(map(int, input().split()))\n",
    "\n",
    "lst.sort()\n",
    "\n",
    "# 자기 자신 중복 x\n",
    "v = [0] * (N)\n",
    "\n",
    "ans = []\n",
    "\n",
    "dfs(0, [])"
   ]
  },
  {
   "cell_type": "code",
   "execution_count": 6,
   "id": "eb31d9ca",
   "metadata": {},
   "outputs": [
    {
     "data": {
      "text/plain": [
       "[[1, 7], [1, 9], [7, 1], [7, 9], [9, 1], [9, 7], [9, 9]]"
      ]
     },
     "execution_count": 6,
     "metadata": {},
     "output_type": "execute_result"
    }
   ],
   "source": [
    "ans"
   ]
  },
  {
   "cell_type": "markdown",
   "id": "e867a0fa",
   "metadata": {},
   "source": [
    "---"
   ]
  },
  {
   "cell_type": "markdown",
   "id": "9747a589",
   "metadata": {},
   "source": [
    "## set 처리"
   ]
  },
  {
   "cell_type": "markdown",
   "id": "baf941b7",
   "metadata": {},
   "source": [
    "---"
   ]
  },
  {
   "cell_type": "markdown",
   "id": "04d53187",
   "metadata": {},
   "source": [
    "- 중복제거 set 처리\n",
    "- set 안의 요소는 `tuple()`로 받아야함. \n",
    "- set은 랜덤 출력임, ans에 lambda 처리 후 출력"
   ]
  }
 ],
 "metadata": {
  "kernelspec": {
   "display_name": "Python 3 (ipykernel)",
   "language": "python",
   "name": "python3"
  },
  "language_info": {
   "codemirror_mode": {
    "name": "ipython",
    "version": 3
   },
   "file_extension": ".py",
   "mimetype": "text/x-python",
   "name": "python",
   "nbconvert_exporter": "python",
   "pygments_lexer": "ipython3",
   "version": "3.8.16"
  },
  "toc": {
   "base_numbering": 1,
   "nav_menu": {},
   "number_sections": true,
   "sideBar": true,
   "skip_h1_title": false,
   "title_cell": "Table of Contents",
   "title_sidebar": "Contents",
   "toc_cell": false,
   "toc_position": {},
   "toc_section_display": true,
   "toc_window_display": false
  },
  "varInspector": {
   "cols": {
    "lenName": 16,
    "lenType": 16,
    "lenVar": 40
   },
   "kernels_config": {
    "python": {
     "delete_cmd_postfix": "",
     "delete_cmd_prefix": "del ",
     "library": "var_list.py",
     "varRefreshCmd": "print(var_dic_list())"
    },
    "r": {
     "delete_cmd_postfix": ") ",
     "delete_cmd_prefix": "rm(",
     "library": "var_list.r",
     "varRefreshCmd": "cat(var_dic_list()) "
    }
   },
   "types_to_exclude": [
    "module",
    "function",
    "builtin_function_or_method",
    "instance",
    "_Feature"
   ],
   "window_display": false
  }
 },
 "nbformat": 4,
 "nbformat_minor": 5
}
