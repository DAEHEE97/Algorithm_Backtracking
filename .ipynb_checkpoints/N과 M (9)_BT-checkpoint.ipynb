{
 "cells": [
  {
   "cell_type": "markdown",
   "id": "6267e99c",
   "metadata": {},
   "source": [
    "# [N과 M (9)](https://www.acmicpc.net/problem/15663)"
   ]
  },
  {
   "cell_type": "markdown",
   "id": "f1fa1fbb",
   "metadata": {},
   "source": [
    "---"
   ]
  },
  {
   "cell_type": "markdown",
   "id": "364d07d8",
   "metadata": {},
   "source": [
    "## 열 트리\n",
    "\n",
    "선택 가능한 j 열 조건\n",
    "\n",
    "1. idx j 중복 x : - j 0, j 0\n",
    "    - v lst 방문 처리 리스트 \n",
    "    \n",
    "2. 뒤로 가는거 방지, 앞으로만 처리, \n",
    "    - start 처리, \n",
    "    - start < j+1 처리시, idx 중복도 같이 처리됨\n",
    "    \n",
    "---\n",
    "\n",
    "- 수열 중복 x : (1,9), (1,9) 2번 불가 > (9,9) 가능\n",
    "    - set 처리\n",
    "    - prev 변수 처리\n",
    "    \n",
    "- j = 0 부터 시작해서, idx 0 값 이 들어와 있는 상태에서, 이때 다음 lst에 값이 이전 prev 와 같은 값이라면, 처리 x"
   ]
  },
  {
   "cell_type": "code",
   "execution_count": 3,
   "id": "e0904be4",
   "metadata": {},
   "outputs": [
    {
     "data": {
      "text/plain": [
       "[[1, 7],\n",
       " [1, 9],\n",
       " [1, 9],\n",
       " [7, 1],\n",
       " [7, 9],\n",
       " [7, 9],\n",
       " [9, 1],\n",
       " [9, 7],\n",
       " [9, 9],\n",
       " [9, 1],\n",
       " [9, 7],\n",
       " [9, 9]]"
      ]
     },
     "execution_count": 3,
     "metadata": {},
     "output_type": "execute_result"
    }
   ],
   "source": [
    "ans # [ 1, 7, 9, 9.] 중복 수열 제외 해야함"
   ]
  },
  {
   "cell_type": "markdown",
   "id": "a2757b52",
   "metadata": {},
   "source": [
    "---"
   ]
  },
  {
   "cell_type": "markdown",
   "id": "b674820d",
   "metadata": {},
   "source": [
    "- 리스트를 오름차순 정렬 상태, 중복 제거, 이전과 같지 않은 경우만 방문 처리\n",
    "- prev"
   ]
  },
  {
   "cell_type": "code",
   "execution_count": 4,
   "id": "27b3b83c",
   "metadata": {},
   "outputs": [],
   "source": [
    "def dfs(n, tmp):\n",
    "    \n",
    "    # 1. 종료조건, n은 선택된 개수 \n",
    "    if n == M:\n",
    "        \n",
    "        ans.append(tmp)\n",
    "        \n",
    "        return\n",
    "    \n",
    "\n",
    "    # 2-1) v lst, 중복되는 idx 처리\n",
    "\n",
    "    # 2-2) prev, 중복되는 수열 처리 \n",
    "    \n",
    "    # (1,1) (9,9) 가능\n",
    "\n",
    "    prev = 0\n",
    "    for j in range(0, N):\n",
    "        \n",
    "        if v[j] == 0 and prev!=lst[j]:\n",
    "            \n",
    "            prev = lst[j]\n",
    "            \n",
    "            v[j] = 1\n",
    "            \n",
    "            dfs( n+1, tmp + [lst[j]] )\n",
    "            \n",
    "            v[j] = 0\n",
    "            "
   ]
  },
  {
   "cell_type": "code",
   "execution_count": 5,
   "id": "32da4692",
   "metadata": {},
   "outputs": [
    {
     "name": "stdout",
     "output_type": "stream",
     "text": [
      "4 2\n",
      "1 1 9 9\n",
      "1 1\n",
      "1 9\n",
      "9 1\n",
      "9 9\n"
     ]
    }
   ],
   "source": [
    "N, M = map(int, input().split())\n",
    "\n",
    "lst = list(map(int, input().split()))\n",
    "\n",
    "lst.sort()\n",
    "\n",
    "# 자기 자신 중복 x\n",
    "v = [0] * (N)\n",
    "\n",
    "ans = []\n",
    "\n",
    "dfs(0, [])\n",
    "\n",
    "for l in ans:\n",
    "    print(*l)"
   ]
  },
  {
   "cell_type": "markdown",
   "id": "85ebc151",
   "metadata": {},
   "source": [
    "1 9\n",
    "9 1"
   ]
  },
  {
   "cell_type": "code",
   "execution_count": 6,
   "id": "eb31d9ca",
   "metadata": {},
   "outputs": [
    {
     "data": {
      "text/plain": [
       "[[1, 7], [1, 9], [7, 1], [7, 9], [9, 1], [9, 7], [9, 9]]"
      ]
     },
     "execution_count": 6,
     "metadata": {},
     "output_type": "execute_result"
    }
   ],
   "source": [
    "ans"
   ]
  }
 ],
 "metadata": {
  "kernelspec": {
   "display_name": "Python 3 (ipykernel)",
   "language": "python",
   "name": "python3"
  },
  "language_info": {
   "codemirror_mode": {
    "name": "ipython",
    "version": 3
   },
   "file_extension": ".py",
   "mimetype": "text/x-python",
   "name": "python",
   "nbconvert_exporter": "python",
   "pygments_lexer": "ipython3",
   "version": "3.8.16"
  },
  "toc": {
   "base_numbering": 1,
   "nav_menu": {},
   "number_sections": true,
   "sideBar": true,
   "skip_h1_title": false,
   "title_cell": "Table of Contents",
   "title_sidebar": "Contents",
   "toc_cell": false,
   "toc_position": {},
   "toc_section_display": true,
   "toc_window_display": false
  },
  "varInspector": {
   "cols": {
    "lenName": 16,
    "lenType": 16,
    "lenVar": 40
   },
   "kernels_config": {
    "python": {
     "delete_cmd_postfix": "",
     "delete_cmd_prefix": "del ",
     "library": "var_list.py",
     "varRefreshCmd": "print(var_dic_list())"
    },
    "r": {
     "delete_cmd_postfix": ") ",
     "delete_cmd_prefix": "rm(",
     "library": "var_list.r",
     "varRefreshCmd": "cat(var_dic_list()) "
    }
   },
   "types_to_exclude": [
    "module",
    "function",
    "builtin_function_or_method",
    "instance",
    "_Feature"
   ],
   "window_display": false
  }
 },
 "nbformat": 4,
 "nbformat_minor": 5
}
