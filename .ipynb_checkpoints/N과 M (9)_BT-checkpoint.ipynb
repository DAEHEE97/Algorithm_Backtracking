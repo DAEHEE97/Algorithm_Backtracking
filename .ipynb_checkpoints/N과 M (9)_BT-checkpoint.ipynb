{
 "cells": [
  {
   "cell_type": "markdown",
   "id": "6267e99c",
   "metadata": {},
   "source": [
    "# [N과 M (9)](https://www.acmicpc.net/problem/15663)"
   ]
  },
  {
   "cell_type": "markdown",
   "id": "f1fa1fbb",
   "metadata": {},
   "source": [
    "---"
   ]
  },
  {
   "cell_type": "markdown",
   "id": "364d07d8",
   "metadata": {},
   "source": [
    "- 열 트리\n",
    "\n",
    "- 가능한 모든 경우 처리\n",
    "- 단, 중복 제거 처리, prev 처리"
   ]
  },
  {
   "cell_type": "markdown",
   "id": "14afa4b1",
   "metadata": {},
   "source": [
    "---"
   ]
  },
  {
   "cell_type": "markdown",
   "id": "bc23bad4",
   "metadata": {},
   "source": [
    "- 기존 처리"
   ]
  },
  {
   "cell_type": "code",
   "execution_count": 3,
   "id": "5cd775d7",
   "metadata": {},
   "outputs": [],
   "source": [
    "def dfs(n, tmp):\n",
    "    \n",
    "    # 1. 종료조건, n은 선택된 개수 \n",
    "    if n == M:\n",
    "        \n",
    "        ans.append(tmp)\n",
    "        \n",
    "        return\n",
    "    \n",
    "    # 2. 하부 함수\n",
    "    \n",
    "    for j in range(0, N):\n",
    "        \n",
    "        if v[j] == 0:\n",
    "            \n",
    "            v[j] = 1\n",
    "            \n",
    "            dfs( n+1, tmp + [lst[j]] )\n",
    "            \n",
    "            v[j] = 0"
   ]
  },
  {
   "cell_type": "code",
   "execution_count": 6,
   "id": "e06d66f8",
   "metadata": {},
   "outputs": [
    {
     "name": "stdout",
     "output_type": "stream",
     "text": [
      "4 2\n",
      "9 7 9 1\n"
     ]
    }
   ],
   "source": [
    "N, M = map(int, input().split())\n",
    "\n",
    "lst = list(map(int, input().split()))\n",
    "\n",
    "lst.sort()\n",
    "\n",
    "# 자기 자신 중복 x\n",
    "v = [0] * (N)\n",
    "\n",
    "ans = []\n",
    "\n",
    "dfs(0, [])\n"
   ]
  },
  {
   "cell_type": "code",
   "execution_count": 7,
   "id": "e0904be4",
   "metadata": {},
   "outputs": [
    {
     "data": {
      "text/plain": [
       "[[1, 7],\n",
       " [1, 9],\n",
       " [1, 9],\n",
       " [7, 1],\n",
       " [7, 9],\n",
       " [7, 9],\n",
       " [9, 1],\n",
       " [9, 7],\n",
       " [9, 9],\n",
       " [9, 1],\n",
       " [9, 7],\n",
       " [9, 9]]"
      ]
     },
     "execution_count": 7,
     "metadata": {},
     "output_type": "execute_result"
    }
   ],
   "source": [
    "ans # 중복 수열 제외 해야함"
   ]
  },
  {
   "cell_type": "markdown",
   "id": "a2757b52",
   "metadata": {},
   "source": [
    "---"
   ]
  },
  {
   "cell_type": "markdown",
   "id": "b674820d",
   "metadata": {},
   "source": [
    "- 리스트를 오름차순 정렬 상태, 중복 제거, 이전과 같지 않은 경우만 방문 처리\n",
    "- prev"
   ]
  },
  {
   "cell_type": "code",
   "execution_count": 8,
   "id": "27b3b83c",
   "metadata": {},
   "outputs": [],
   "source": [
    "def dfs(n, tmp):\n",
    "    \n",
    "    # 1. 종료조건, n은 선택된 개수 \n",
    "    if n == M:\n",
    "        \n",
    "        ans.append(tmp)\n",
    "        \n",
    "        return\n",
    "    \n",
    "    # 2. 하부 함수\n",
    "    # 다음에 삽입할 값이 이전과 같으면 안됨\n",
    "    prev = 0\n",
    "    \n",
    "    for j in range(0, N):\n",
    "        \n",
    "        if v[j] == 0 and prev!=lst[j]:\n",
    "            \n",
    "            prev = lst[j]\n",
    "            \n",
    "            v[j] = 1\n",
    "            \n",
    "            dfs( n+1, tmp + [lst[j]] )\n",
    "            \n",
    "            v[j] = 0\n",
    "            "
   ]
  },
  {
   "cell_type": "code",
   "execution_count": 10,
   "id": "32da4692",
   "metadata": {},
   "outputs": [
    {
     "name": "stdout",
     "output_type": "stream",
     "text": [
      "4 2\n",
      "9 7 9 1\n"
     ]
    }
   ],
   "source": [
    "N, M = map(int, input().split())\n",
    "\n",
    "lst = list(map(int, input().split()))\n",
    "\n",
    "lst.sort()\n",
    "\n",
    "# 자기 자신 중복 x\n",
    "v = [0] * (N)\n",
    "\n",
    "ans = []\n",
    "\n",
    "dfs(0, [])"
   ]
  },
  {
   "cell_type": "code",
   "execution_count": 11,
   "id": "eb31d9ca",
   "metadata": {},
   "outputs": [
    {
     "data": {
      "text/plain": [
       "[[1, 7], [1, 9], [7, 1], [7, 9], [9, 1], [9, 7], [9, 9]]"
      ]
     },
     "execution_count": 11,
     "metadata": {},
     "output_type": "execute_result"
    }
   ],
   "source": [
    "ans"
   ]
  },
  {
   "cell_type": "markdown",
   "id": "e867a0fa",
   "metadata": {},
   "source": [
    "---"
   ]
  },
  {
   "cell_type": "markdown",
   "id": "04d53187",
   "metadata": {},
   "source": [
    "- 중복제거 set 처리\n",
    "- set 안의 요소는 tuple로 받아야함.\n",
    "- set은 랜덤 출력임\n",
    "- ans에 lambda 처리 후 출력"
   ]
  },
  {
   "cell_type": "code",
   "execution_count": 6,
   "id": "013bb1fd",
   "metadata": {},
   "outputs": [],
   "source": [
    "def dfs(n, tmp):\n",
    "    \n",
    "        \n",
    "    if n == M :\n",
    "        \n",
    "        ans.append(tuple(tmp))\n",
    "        \n",
    "        return \n",
    "    \n",
    "    \n",
    "    # idx 중복 x\n",
    "    \n",
    "    for j in range(0, N):\n",
    "        \n",
    "        if v[j] == 0:\n",
    "            \n",
    "            v[j] = 1\n",
    "            \n",
    "            dfs(n+1, tmp + [lst[j]] )\n",
    "            \n",
    "            v[j] = 0\n",
    "    \n",
    "    "
   ]
  },
  {
   "cell_type": "code",
   "execution_count": 10,
   "id": "19d89388",
   "metadata": {},
   "outputs": [
    {
     "name": "stdout",
     "output_type": "stream",
     "text": [
      "4 2\n",
      "9 7 9 1\n",
      "1 7\n",
      "1 9\n",
      "7 1\n",
      "7 9\n",
      "9 1\n",
      "9 7\n",
      "9 9\n"
     ]
    }
   ],
   "source": [
    "N, M = map(int, input().split())\n",
    "\n",
    "lst = list(map(int, input().split()))\n",
    "\n",
    "lst.sort()\n",
    "\n",
    "v = [0] * (N+1)\n",
    "\n",
    "\n",
    "ans = []\n",
    "\n",
    "sset = set()\n",
    "\n",
    "dfs(0, [])\n",
    "\n",
    "\n",
    "for l in ans:\n",
    "    sset.add(l)\n",
    "    \n",
    "ans = []\n",
    "\n",
    "for l in sset:\n",
    "    ans.append(l)\n",
    "\n",
    "if M == 1:\n",
    "    ans.sort(key = lambda x : x[0])\n",
    "\n",
    "else:\n",
    "    for i in range(M-1,-1,-1):\n",
    "        ans.sort(key = lambda x : x[i])\n",
    "\n",
    "        \n",
    "\n",
    "for l in ans:\n",
    "    print(*l)"
   ]
  },
  {
   "cell_type": "code",
   "execution_count": 9,
   "id": "f27f1787",
   "metadata": {},
   "outputs": [
    {
     "name": "stdout",
     "output_type": "stream",
     "text": [
      "2\n",
      "1\n",
      "0\n"
     ]
    }
   ],
   "source": [
    "for i in range(2,-1,-1):\n",
    "    print(i)"
   ]
  }
 ],
 "metadata": {
  "kernelspec": {
   "display_name": "Python 3 (ipykernel)",
   "language": "python",
   "name": "python3"
  },
  "language_info": {
   "codemirror_mode": {
    "name": "ipython",
    "version": 3
   },
   "file_extension": ".py",
   "mimetype": "text/x-python",
   "name": "python",
   "nbconvert_exporter": "python",
   "pygments_lexer": "ipython3",
   "version": "3.8.16"
  },
  "toc": {
   "base_numbering": 1,
   "nav_menu": {},
   "number_sections": true,
   "sideBar": true,
   "skip_h1_title": false,
   "title_cell": "Table of Contents",
   "title_sidebar": "Contents",
   "toc_cell": false,
   "toc_position": {},
   "toc_section_display": true,
   "toc_window_display": false
  },
  "varInspector": {
   "cols": {
    "lenName": 16,
    "lenType": 16,
    "lenVar": 40
   },
   "kernels_config": {
    "python": {
     "delete_cmd_postfix": "",
     "delete_cmd_prefix": "del ",
     "library": "var_list.py",
     "varRefreshCmd": "print(var_dic_list())"
    },
    "r": {
     "delete_cmd_postfix": ") ",
     "delete_cmd_prefix": "rm(",
     "library": "var_list.r",
     "varRefreshCmd": "cat(var_dic_list()) "
    }
   },
   "types_to_exclude": [
    "module",
    "function",
    "builtin_function_or_method",
    "instance",
    "_Feature"
   ],
   "window_display": false
  }
 },
 "nbformat": 4,
 "nbformat_minor": 5
}
