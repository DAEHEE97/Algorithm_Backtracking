{
 "cells": [
  {
   "cell_type": "markdown",
   "id": "13986c2d",
   "metadata": {},
   "source": [
    "# [9663_N-Queen](https://www.acmicpc.net/problem/9663)"
   ]
  },
  {
   "cell_type": "markdown",
   "id": "0685ca9b",
   "metadata": {},
   "source": [
    "---"
   ]
  },
  {
   "cell_type": "markdown",
   "id": "9d6e53e8",
   "metadata": {},
   "source": [
    "## Memo\n",
    "\n",
    "- N행으로 진행, ans += 1\n",
    "\n",
    "- n은 행처리, 0,1,2,3 n == N 종료\n",
    "\n",
    "- 행은 고정, 열트리, 대각선 1, 대각선 2 방문 표시 리스트 3개 확인 \n",
    "\n",
    "- i+j 일정, i-j 일정"
   ]
  },
  {
   "cell_type": "markdown",
   "id": "00d70358",
   "metadata": {},
   "source": [
    "---"
   ]
  },
  {
   "cell_type": "code",
   "execution_count": 1,
   "id": "99c3d514",
   "metadata": {},
   "outputs": [],
   "source": [
    "# n은 0행 부터 start\n",
    "\n",
    "def dfs(n):\n",
    "    \n",
    "    global ans\n",
    "    \n",
    "    if n == N:\n",
    "        \n",
    "        ans += 1\n",
    "        \n",
    "        return\n",
    "    \n",
    "    # 열 트리, N-1 열 까지 가능\n",
    "    for j in range(0, N):\n",
    "        \n",
    "        if v[j] == d1[n+j]== d2[n-j] == 0:\n",
    "            \n",
    "            v[j] = d1[n+j] = d2[n-j] = 1\n",
    "            \n",
    "            dfs(n+1)\n",
    "            \n",
    "            v[j] = d1[n+j] = d2[n-j] = 0\n",
    " \n"
   ]
  },
  {
   "cell_type": "code",
   "execution_count": 3,
   "id": "89aa175f",
   "metadata": {},
   "outputs": [
    {
     "name": "stdout",
     "output_type": "stream",
     "text": [
      "8\n",
      "92\n"
     ]
    }
   ],
   "source": [
    "N = int(input())\n",
    "    \n",
    "ans = 0\n",
    "    \n",
    "# 열, 대각선 1, 대각선 2\n",
    "v = [0] * (2*N)\n",
    "d1 = [0] * (2*N)\n",
    "d2 = [0] * (2*N)\n",
    "\n",
    "dfs(0)\n",
    "    \n",
    "print(f'{ans}')"
   ]
  },
  {
   "cell_type": "code",
   "execution_count": 12,
   "id": "09a30631",
   "metadata": {},
   "outputs": [
    {
     "data": {
      "text/plain": [
       "[0, 0, 0, 0, 0, 0, 0, 0, 0, 0, 0, 0, 0, 0, 0, 0]"
      ]
     },
     "execution_count": 12,
     "metadata": {},
     "output_type": "execute_result"
    }
   ],
   "source": [
    "v"
   ]
  },
  {
   "cell_type": "code",
   "execution_count": 13,
   "id": "a10eee1e",
   "metadata": {},
   "outputs": [
    {
     "data": {
      "text/plain": [
       "[0, 0, 0, 0, 0, 0, 0, 0, 0, 0, 0, 0, 0, 0, 0, 0]"
      ]
     },
     "execution_count": 13,
     "metadata": {},
     "output_type": "execute_result"
    }
   ],
   "source": [
    "d1"
   ]
  },
  {
   "cell_type": "code",
   "execution_count": 14,
   "id": "8cf29bb9",
   "metadata": {},
   "outputs": [
    {
     "data": {
      "text/plain": [
       "[0, 0, 0, 0, 0, 0, 0, 0, 0, 0, 0, 0, 0, 0, 0, 0]"
      ]
     },
     "execution_count": 14,
     "metadata": {},
     "output_type": "execute_result"
    }
   ],
   "source": [
    "d2"
   ]
  }
 ],
 "metadata": {
  "kernelspec": {
   "display_name": "Python 3 (ipykernel)",
   "language": "python",
   "name": "python3"
  },
  "language_info": {
   "codemirror_mode": {
    "name": "ipython",
    "version": 3
   },
   "file_extension": ".py",
   "mimetype": "text/x-python",
   "name": "python",
   "nbconvert_exporter": "python",
   "pygments_lexer": "ipython3",
   "version": "3.8.16"
  },
  "toc": {
   "base_numbering": 1,
   "nav_menu": {},
   "number_sections": true,
   "sideBar": true,
   "skip_h1_title": false,
   "title_cell": "Table of Contents",
   "title_sidebar": "Contents",
   "toc_cell": false,
   "toc_position": {},
   "toc_section_display": true,
   "toc_window_display": false
  },
  "varInspector": {
   "cols": {
    "lenName": 16,
    "lenType": 16,
    "lenVar": 40
   },
   "kernels_config": {
    "python": {
     "delete_cmd_postfix": "",
     "delete_cmd_prefix": "del ",
     "library": "var_list.py",
     "varRefreshCmd": "print(var_dic_list())"
    },
    "r": {
     "delete_cmd_postfix": ") ",
     "delete_cmd_prefix": "rm(",
     "library": "var_list.r",
     "varRefreshCmd": "cat(var_dic_list()) "
    }
   },
   "types_to_exclude": [
    "module",
    "function",
    "builtin_function_or_method",
    "instance",
    "_Feature"
   ],
   "window_display": false
  }
 },
 "nbformat": 4,
 "nbformat_minor": 5
}
