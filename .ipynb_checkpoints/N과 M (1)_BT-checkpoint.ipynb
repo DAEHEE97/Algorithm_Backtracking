{
 "cells": [
  {
   "cell_type": "markdown",
   "id": "899f8611",
   "metadata": {},
   "source": [
    "# [N과 M (1)_BT](https://www.acmicpc.net/problem/15649)\n",
    "\n",
    "- 백트래킹 \n",
    "\n",
    "\n",
    "- dfs"
   ]
  },
  {
   "cell_type": "markdown",
   "id": "45272bf9",
   "metadata": {},
   "source": [
    "---"
   ]
  },
  {
   "cell_type": "markdown",
   "id": "903db07e",
   "metadata": {},
   "source": [
    "## Memo\n",
    "\n",
    "\n",
    "- n 은 선택된 숫자 길이\n",
    "\n",
    "- 길이 M, 리스트 \n",
    "\n",
    "- M 종료\n",
    "\n"
   ]
  },
  {
   "cell_type": "code",
   "execution_count": 1,
   "id": "ae53186d",
   "metadata": {},
   "outputs": [],
   "source": [
    "lst = [1,2]"
   ]
  },
  {
   "cell_type": "code",
   "execution_count": 2,
   "id": "53b0bbfb",
   "metadata": {},
   "outputs": [
    {
     "data": {
      "text/plain": [
       "[1, 2, 3]"
      ]
     },
     "execution_count": 2,
     "metadata": {},
     "output_type": "execute_result"
    }
   ],
   "source": [
    "lst + [3]"
   ]
  },
  {
   "cell_type": "markdown",
   "id": "fdb22120",
   "metadata": {},
   "source": [
    "---"
   ]
  },
  {
   "cell_type": "code",
   "execution_count": 5,
   "id": "eb74b55b",
   "metadata": {},
   "outputs": [],
   "source": [
    "# n = 0 인 경우 부터 M-1인 경우 까지, 총 M개\n",
    "\n",
    "def dfs(n, lst):\n",
    "    \n",
    "    # 1. 종료조건 (n에 관련) 처리 + 정답처리\n",
    "    if n == M:    \n",
    "        ans.append(lst)\n",
    "        return\n",
    "\n",
    "    # 2. 하부단계(함수) 호출, 1 부터 N 포함\n",
    "    for j in range(1, N+1):\n",
    "        \n",
    "        if v[j] == 0: # 선택하지 않은 숫자인 경우 추가\n",
    "            \n",
    "            v[j] = 1\n",
    "            \n",
    "            dfs(n+1, lst+[j])\n",
    "            \n",
    "            v[j] = 0"
   ]
  },
  {
   "cell_type": "code",
   "execution_count": 7,
   "id": "98b72f42",
   "metadata": {},
   "outputs": [
    {
     "name": "stdout",
     "output_type": "stream",
     "text": [
      "4 2\n",
      "1 2\n",
      "1 3\n",
      "1 4\n",
      "2 1\n",
      "2 3\n",
      "2 4\n",
      "3 1\n",
      "3 2\n",
      "3 4\n",
      "4 1\n",
      "4 2\n",
      "4 3\n"
     ]
    }
   ],
   "source": [
    "N, M = map(int, input().split())\n",
    "\n",
    "v = [0] * (N+1)       # 중복확인을 위한 visited[]\n",
    "\n",
    "ans = []            \n",
    "\n",
    "dfs(0, [])\n",
    "\n",
    "\n",
    "for lst in ans:\n",
    "    \n",
    "    print(*lst)"
   ]
  },
  {
   "cell_type": "markdown",
   "id": "5978f6c4",
   "metadata": {},
   "source": [
    "---"
   ]
  },
  {
   "cell_type": "code",
   "execution_count": 4,
   "id": "d34b8777",
   "metadata": {},
   "outputs": [
    {
     "name": "stdout",
     "output_type": "stream",
     "text": [
      "4 2\n",
      "1 2\n",
      "1 3\n",
      "1 4\n",
      "2 1\n",
      "2 3\n",
      "2 4\n",
      "3 1\n",
      "3 2\n",
      "3 4\n",
      "4 1\n",
      "4 2\n",
      "4 3\n"
     ]
    }
   ],
   "source": [
    "from itertools import permutations\n",
    "\n",
    "N, M = map(int, input().split())\n",
    "\n",
    "lst = list(range(1, N+1))\n",
    "\n",
    "for tup in permutations(lst, M):\n",
    "    \n",
    "    print(*tup)"
   ]
  },
  {
   "cell_type": "markdown",
   "id": "97fed58c",
   "metadata": {},
   "source": [
    "---"
   ]
  }
 ],
 "metadata": {
  "kernelspec": {
   "display_name": "Python 3 (ipykernel)",
   "language": "python",
   "name": "python3"
  },
  "language_info": {
   "codemirror_mode": {
    "name": "ipython",
    "version": 3
   },
   "file_extension": ".py",
   "mimetype": "text/x-python",
   "name": "python",
   "nbconvert_exporter": "python",
   "pygments_lexer": "ipython3",
   "version": "3.8.16"
  },
  "toc": {
   "base_numbering": 1,
   "nav_menu": {},
   "number_sections": true,
   "sideBar": true,
   "skip_h1_title": false,
   "title_cell": "Table of Contents",
   "title_sidebar": "Contents",
   "toc_cell": false,
   "toc_position": {},
   "toc_section_display": true,
   "toc_window_display": false
  },
  "varInspector": {
   "cols": {
    "lenName": 16,
    "lenType": 16,
    "lenVar": 40
   },
   "kernels_config": {
    "python": {
     "delete_cmd_postfix": "",
     "delete_cmd_prefix": "del ",
     "library": "var_list.py",
     "varRefreshCmd": "print(var_dic_list())"
    },
    "r": {
     "delete_cmd_postfix": ") ",
     "delete_cmd_prefix": "rm(",
     "library": "var_list.r",
     "varRefreshCmd": "cat(var_dic_list()) "
    }
   },
   "types_to_exclude": [
    "module",
    "function",
    "builtin_function_or_method",
    "instance",
    "_Feature"
   ],
   "window_display": false
  }
 },
 "nbformat": 4,
 "nbformat_minor": 5
}
