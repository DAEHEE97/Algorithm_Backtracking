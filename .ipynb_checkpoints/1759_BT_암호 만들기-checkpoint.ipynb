{
 "cells": [
  {
   "cell_type": "markdown",
   "id": "4d287f32",
   "metadata": {},
   "source": [
    "# [1759_암호만들기](https://www.acmicpc.net/problem/1759)\n",
    "\n",
    "\n",
    "- "
   ]
  },
  {
   "cell_type": "code",
   "execution_count": 43,
   "id": "300dc69d",
   "metadata": {},
   "outputs": [],
   "source": [
    "def dfs(n, string):\n",
    "    \n",
    "    \n",
    "    # 1. 종료 조건 n은 리스트의 idx , C-1 까지 C 종료\n",
    "    \n",
    "    if n == C:\n",
    "        \n",
    "        # 정답 처리\n",
    "        \n",
    "        lst_bool = [c in ('a', 'e', 'i', 'o', 'u') for c in string]\n",
    "        \n",
    "        if len(string) == L and lst_bool.count(True) >= 1 and lst_bool.count(False) >=2:\n",
    "            ans.append(string)\n",
    "        return\n",
    "        \n",
    "    \n",
    "    # 이진 트리\n",
    "    dfs(n+1, string+lst[n])\n",
    "    \n",
    "    dfs(n+1, string)"
   ]
  },
  {
   "cell_type": "code",
   "execution_count": 44,
   "id": "1f88258b",
   "metadata": {},
   "outputs": [
    {
     "name": "stdout",
     "output_type": "stream",
     "text": [
      "4 6\n",
      "a t c i s w\n"
     ]
    }
   ],
   "source": [
    "# 서로 다른 L개의 알파벳 소문자 4개, 문자의 종류는 C가지 6개\n",
    "\n",
    "# 최소 한 개의 모음(a, e, i, o, u)\n",
    "# 최소 두 개의 자음으로 구성\n",
    "# 알파벳이 암호에서 증가하는 순서\n",
    "# 중복 불가\n",
    "# 이진 트리 \n",
    "\n",
    "\n",
    "L, C = map(int, input().split())\n",
    "\n",
    "lst = list(input().split())\n",
    "\n",
    "lst.sort()\n",
    "\n",
    "ans = []\n",
    "\n",
    "dfs(0, '')\n",
    "\n",
    "for l in ans:\n",
    "    print(l)\n",
    "    "
   ]
  },
  {
   "cell_type": "code",
   "execution_count": 48,
   "id": "0eee6514",
   "metadata": {},
   "outputs": [
    {
     "name": "stdout",
     "output_type": "stream",
     "text": [
      "acis\n",
      "acit\n",
      "aciw\n",
      "acst\n",
      "acsw\n",
      "actw\n",
      "aist\n",
      "aisw\n",
      "aitw\n",
      "astw\n",
      "cist\n",
      "cisw\n",
      "citw\n",
      "istw\n"
     ]
    }
   ],
   "source": [
    "for l in ans:\n",
    "    print(l)"
   ]
  },
  {
   "cell_type": "code",
   "execution_count": 4,
   "id": "7f4bba4f",
   "metadata": {},
   "outputs": [],
   "source": [
    "lst.sort()"
   ]
  },
  {
   "cell_type": "code",
   "execution_count": 38,
   "id": "6106340b",
   "metadata": {},
   "outputs": [],
   "source": [
    "l = [ c in ('a', 'e', 'i', 'o', 'u') for c in string ]"
   ]
  },
  {
   "cell_type": "code",
   "execution_count": 42,
   "id": "1c4a209b",
   "metadata": {},
   "outputs": [
    {
     "data": {
      "text/plain": [
       "(1, 3)"
      ]
     },
     "execution_count": 42,
     "metadata": {},
     "output_type": "execute_result"
    }
   ],
   "source": [
    "l.count(True), l.count(False)"
   ]
  },
  {
   "cell_type": "markdown",
   "id": "0e116946",
   "metadata": {},
   "source": [
    "---"
   ]
  },
  {
   "cell_type": "code",
   "execution_count": null,
   "id": "59bc1dae",
   "metadata": {},
   "outputs": [],
   "source": [
    "def dfs(n, cnt, tst):\n",
    "    if n==C:    # 모든 알파벳의 사용여부를 선택한 경우: 종료\n",
    "        # 비밀번호 길이, 모음개수>=1, 자음개수>=2\n",
    "        if len(tst)==L and cnt>=1 and L-cnt>=2:\n",
    "            ans.append(tst)\n",
    "        return\n",
    "\n",
    "    dfs(n+1, cnt+tbl[ord(lst[n])], tst+lst[n])  # 포함하는 경우\n",
    "    dfs(n+1, cnt, tst)                          # 포함하지 않는 경우\n",
    "\n",
    "L, C = map(int, input().split())\n",
    "lst = sorted(input().split())\n",
    "\n",
    "# lookup table (모음인경우 1, 그외 0이 저장되어 있는..)\n",
    "tbl = [0]*128\n",
    "for ch in \"aeiou\":\n",
    "    tbl[ord(ch)]=1\n",
    "\n",
    "# n(index), cnt(모음의 개수), tst(완성되는 비밀번호 문자열)\n",
    "ans = []\n",
    "dfs(0, 0, \"\")\n",
    "for st in ans:\n",
    "    print(st)"
   ]
  }
 ],
 "metadata": {
  "kernelspec": {
   "display_name": "Python 3 (ipykernel)",
   "language": "python",
   "name": "python3"
  },
  "language_info": {
   "codemirror_mode": {
    "name": "ipython",
    "version": 3
   },
   "file_extension": ".py",
   "mimetype": "text/x-python",
   "name": "python",
   "nbconvert_exporter": "python",
   "pygments_lexer": "ipython3",
   "version": "3.8.16"
  },
  "toc": {
   "base_numbering": 1,
   "nav_menu": {},
   "number_sections": true,
   "sideBar": true,
   "skip_h1_title": false,
   "title_cell": "Table of Contents",
   "title_sidebar": "Contents",
   "toc_cell": false,
   "toc_position": {},
   "toc_section_display": true,
   "toc_window_display": false
  },
  "varInspector": {
   "cols": {
    "lenName": 16,
    "lenType": 16,
    "lenVar": 40
   },
   "kernels_config": {
    "python": {
     "delete_cmd_postfix": "",
     "delete_cmd_prefix": "del ",
     "library": "var_list.py",
     "varRefreshCmd": "print(var_dic_list())"
    },
    "r": {
     "delete_cmd_postfix": ") ",
     "delete_cmd_prefix": "rm(",
     "library": "var_list.r",
     "varRefreshCmd": "cat(var_dic_list()) "
    }
   },
   "types_to_exclude": [
    "module",
    "function",
    "builtin_function_or_method",
    "instance",
    "_Feature"
   ],
   "window_display": false
  }
 },
 "nbformat": 4,
 "nbformat_minor": 5
}
