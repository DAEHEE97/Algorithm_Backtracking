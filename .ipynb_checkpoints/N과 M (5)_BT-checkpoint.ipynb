{
 "cells": [
  {
   "cell_type": "markdown",
   "id": "a8b9e1a3",
   "metadata": {},
   "source": [
    "# [N과 M (5)_BT](https://www.acmicpc.net/problem/15654)"
   ]
  },
  {
   "cell_type": "markdown",
   "id": "03b1a8dd",
   "metadata": {},
   "source": [
    "---"
   ]
  },
  {
   "cell_type": "markdown",
   "id": "a3b84a77",
   "metadata": {},
   "source": [
    "- 열 트리\n",
    "\n",
    "- 가능한 모든 경우의 수 처리, (같은 idx를 여러번 고를수 없음) - 0번 idx 고르면, 다음 부터 못고름 \n",
    "    - idx 중복 을 막기 위한  v lst 생성 처리\n",
    "\n",
    "\n",
    "- (중복되는 수열은 가능), 값이 같은것이 있지만, idx는 다르므로  1,2 - 1,2 가능\n"
   ]
  },
  {
   "cell_type": "markdown",
   "id": "e62d1193",
   "metadata": {},
   "source": [
    "---"
   ]
  },
  {
   "cell_type": "code",
   "execution_count": 6,
   "id": "0ec04f0a",
   "metadata": {},
   "outputs": [],
   "source": [
    "# n은 고른 개수 \n",
    "def bfs(n, tmp):\n",
    "\n",
    "\n",
    "    # 1. 종료조건\n",
    "    if n == M:\n",
    "        \n",
    "        ans.append(tmp)\n",
    "        \n",
    "        return\n",
    "    \n",
    "    \n",
    "    # 2. 하부함수, 방문한적 없으면 방문\n",
    "    \n",
    "    for j in range(0, N):\n",
    "        \n",
    "        if v[j] == 0:\n",
    "            \n",
    "            v[j] = 1\n",
    "            \n",
    "            bfs( n+1, tmp + [lst[j]] )\n",
    "            \n",
    "            v[j] = 0"
   ]
  },
  {
   "cell_type": "markdown",
   "id": "94fa284d",
   "metadata": {},
   "source": [
    "---"
   ]
  },
  {
   "cell_type": "code",
   "execution_count": 7,
   "id": "abffca61",
   "metadata": {},
   "outputs": [
    {
     "name": "stdout",
     "output_type": "stream",
     "text": [
      "4 2\n",
      "1 7 9 9\n",
      "1 7\n",
      "1 9\n",
      "1 9\n",
      "7 1\n",
      "7 9\n",
      "7 9\n",
      "9 1\n",
      "9 7\n",
      "9 9\n",
      "9 1\n",
      "9 7\n",
      "9 9\n"
     ]
    }
   ],
   "source": [
    "N, M = map(int, input().split())\n",
    "\n",
    "# 0 1 2 3\n",
    "lst = list(map(int, input().split()))\n",
    "lst.sort()\n",
    "\n",
    "# 0 1 2 3\n",
    "v = [0] * (N)\n",
    "\n",
    "ans = []\n",
    "\n",
    "bfs(0, [])\n",
    "\n",
    "for l in ans:\n",
    "    print(*l)"
   ]
  },
  {
   "cell_type": "markdown",
   "id": "b51db888",
   "metadata": {},
   "source": [
    "---"
   ]
  },
  {
   "cell_type": "markdown",
   "id": "7770301a",
   "metadata": {},
   "source": [
    "1,7 - 7,1 이 처리 x 되므로 이진 트리 x  열 트리"
   ]
  }
 ],
 "metadata": {
  "kernelspec": {
   "display_name": "Python 3 (ipykernel)",
   "language": "python",
   "name": "python3"
  },
  "language_info": {
   "codemirror_mode": {
    "name": "ipython",
    "version": 3
   },
   "file_extension": ".py",
   "mimetype": "text/x-python",
   "name": "python",
   "nbconvert_exporter": "python",
   "pygments_lexer": "ipython3",
   "version": "3.8.16"
  },
  "toc": {
   "base_numbering": 1,
   "nav_menu": {},
   "number_sections": true,
   "sideBar": true,
   "skip_h1_title": false,
   "title_cell": "Table of Contents",
   "title_sidebar": "Contents",
   "toc_cell": false,
   "toc_position": {},
   "toc_section_display": true,
   "toc_window_display": false
  },
  "varInspector": {
   "cols": {
    "lenName": 16,
    "lenType": 16,
    "lenVar": 40
   },
   "kernels_config": {
    "python": {
     "delete_cmd_postfix": "",
     "delete_cmd_prefix": "del ",
     "library": "var_list.py",
     "varRefreshCmd": "print(var_dic_list())"
    },
    "r": {
     "delete_cmd_postfix": ") ",
     "delete_cmd_prefix": "rm(",
     "library": "var_list.r",
     "varRefreshCmd": "cat(var_dic_list()) "
    }
   },
   "types_to_exclude": [
    "module",
    "function",
    "builtin_function_or_method",
    "instance",
    "_Feature"
   ],
   "window_display": false
  }
 },
 "nbformat": 4,
 "nbformat_minor": 5
}
