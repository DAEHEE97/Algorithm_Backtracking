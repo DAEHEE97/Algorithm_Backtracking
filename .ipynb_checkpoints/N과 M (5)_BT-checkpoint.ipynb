{
 "cells": [
  {
   "cell_type": "markdown",
   "id": "a8b9e1a3",
   "metadata": {},
   "source": [
    "# [N과 M (5)_BT](https://www.acmicpc.net/problem/15654)"
   ]
  },
  {
   "cell_type": "markdown",
   "id": "03b1a8dd",
   "metadata": {},
   "source": [
    "---"
   ]
  },
  {
   "cell_type": "code",
   "execution_count": 1,
   "id": "0ec04f0a",
   "metadata": {},
   "outputs": [],
   "source": [
    "# n은 고른 개수 \n",
    "\n",
    "\n",
    "def bfs(n, tmp):\n",
    "\n",
    "\n",
    "    # 1. 종료조건\n",
    "    # 2개 고르면 종료 \n",
    "    if n == M:\n",
    "        \n",
    "        ans.append(tmp)\n",
    "        \n",
    "        return\n",
    "    \n",
    "    \n",
    "    # 2. 하부함수\n",
    "    # 방문한적 없으면 방문\n",
    "    \n",
    "    for j in range(0, N):\n",
    "        \n",
    "        if v[j] == 0:\n",
    "            \n",
    "            v[j] = 1\n",
    "            \n",
    "            bfs( n+1, tmp + [lst[j]] )\n",
    "            \n",
    "            v[j] = 0\n",
    "            \n",
    "\n",
    "        "
   ]
  },
  {
   "cell_type": "code",
   "execution_count": 2,
   "id": "abffca61",
   "metadata": {},
   "outputs": [
    {
     "name": "stdout",
     "output_type": "stream",
     "text": [
      "4 2\n",
      "9 8 7 1\n",
      "1 7\n",
      "1 8\n",
      "1 9\n",
      "7 1\n",
      "7 8\n",
      "7 9\n",
      "8 1\n",
      "8 7\n",
      "8 9\n",
      "9 1\n",
      "9 7\n",
      "9 8\n"
     ]
    }
   ],
   "source": [
    "N, M = map(int, input().split())\n",
    "\n",
    "# 0 1 2 3\n",
    "lst = list(map(int, input().split()))\n",
    "\n",
    "lst.sort()\n",
    "\n",
    "# 0 1 2 3\n",
    "v = [0] * (N)\n",
    "\n",
    "ans = []\n",
    "\n",
    "# 0개, \n",
    "bfs(0, [])\n",
    "\n",
    "\n",
    "\n",
    "for l in ans:\n",
    "    print(*l)"
   ]
  }
 ],
 "metadata": {
  "kernelspec": {
   "display_name": "Python 3 (ipykernel)",
   "language": "python",
   "name": "python3"
  },
  "language_info": {
   "codemirror_mode": {
    "name": "ipython",
    "version": 3
   },
   "file_extension": ".py",
   "mimetype": "text/x-python",
   "name": "python",
   "nbconvert_exporter": "python",
   "pygments_lexer": "ipython3",
   "version": "3.8.16"
  },
  "toc": {
   "base_numbering": 1,
   "nav_menu": {},
   "number_sections": true,
   "sideBar": true,
   "skip_h1_title": false,
   "title_cell": "Table of Contents",
   "title_sidebar": "Contents",
   "toc_cell": false,
   "toc_position": {},
   "toc_section_display": true,
   "toc_window_display": false
  },
  "varInspector": {
   "cols": {
    "lenName": 16,
    "lenType": 16,
    "lenVar": 40
   },
   "kernels_config": {
    "python": {
     "delete_cmd_postfix": "",
     "delete_cmd_prefix": "del ",
     "library": "var_list.py",
     "varRefreshCmd": "print(var_dic_list())"
    },
    "r": {
     "delete_cmd_postfix": ") ",
     "delete_cmd_prefix": "rm(",
     "library": "var_list.r",
     "varRefreshCmd": "cat(var_dic_list()) "
    }
   },
   "types_to_exclude": [
    "module",
    "function",
    "builtin_function_or_method",
    "instance",
    "_Feature"
   ],
   "window_display": false
  }
 },
 "nbformat": 4,
 "nbformat_minor": 5
}
