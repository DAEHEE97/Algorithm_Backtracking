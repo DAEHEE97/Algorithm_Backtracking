{
 "cells": [
  {
   "cell_type": "markdown",
   "id": "025999b3",
   "metadata": {},
   "source": [
    "# [N과 M (7)_BT](https://www.acmicpc.net/problem/15656)\n"
   ]
  },
  {
   "cell_type": "markdown",
   "id": "7af9f032",
   "metadata": {},
   "source": [
    "---"
   ]
  },
  {
   "cell_type": "markdown",
   "id": "0ad6b82c",
   "metadata": {},
   "source": [
    "- 열 트리\n",
    "\n",
    "- 가능한 모든 경우의 수 처리, (같은 idx j 를 여러번 골라도 됨) - idx 0, idx 0 가능)\n",
    "\n",
    "- (중복되는 수열 가능), 값이 같은것이 있지만, idx는 다르므로  1,1 - 1,1 가능\n",
    "\n",
    "- n 은 lst의 갯수,길이 로, M개가 되면 종료\n",
    "\n",
    "- 갯수 0 부터 시작해서, 하나 삽입시마다, n + 1 하면서 dfs\n",
    "\n",
    "- 이때 dfs, j는 lst의 idx"
   ]
  },
  {
   "cell_type": "markdown",
   "id": "765edf5b",
   "metadata": {},
   "source": [
    "---"
   ]
  },
  {
   "cell_type": "code",
   "execution_count": 3,
   "id": "9aa0f0cf",
   "metadata": {},
   "outputs": [],
   "source": [
    "def dfs(n, tmp):\n",
    "    \n",
    "    # 1. 종료조건 , M개 종료\n",
    "    \n",
    "    if n == M:    \n",
    "        ans.append(tmp)\n",
    "        return\n",
    "\n",
    "    # 2. 하부단계(함수) 호출\n",
    "    \n",
    "    for j in range(0, N):\n",
    "        \n",
    "        dfs( n+1, tmp + [lst[j]] )\n",
    "            "
   ]
  },
  {
   "cell_type": "markdown",
   "id": "98bfb627",
   "metadata": {},
   "source": [
    "---"
   ]
  },
  {
   "cell_type": "code",
   "execution_count": 4,
   "id": "38e41834",
   "metadata": {},
   "outputs": [
    {
     "name": "stdout",
     "output_type": "stream",
     "text": [
      "4 2\n",
      "1 7 9 9\n",
      "1 1\n",
      "1 7\n",
      "1 9\n",
      "1 9\n",
      "7 1\n",
      "7 7\n",
      "7 9\n",
      "7 9\n",
      "9 1\n",
      "9 7\n",
      "9 9\n",
      "9 9\n",
      "9 1\n",
      "9 7\n",
      "9 9\n",
      "9 9\n"
     ]
    }
   ],
   "source": [
    "#### N개 중 M개 pick 종료\n",
    "N, M = map(int, input().split())\n",
    "\n",
    "lst = list(map(int, input().split()))\n",
    "\n",
    "lst.sort()\n",
    "\n",
    "ans = []            \n",
    "\n",
    "# 0개 부터 하나씩 추가하면서 lst에 삽입하면서 ans 완성\n",
    "dfs(0, [])\n",
    "\n",
    "for l in ans:\n",
    "    \n",
    "    print(*l)"
   ]
  },
  {
   "cell_type": "markdown",
   "id": "cbcefeaa",
   "metadata": {},
   "source": [
    "---"
   ]
  }
 ],
 "metadata": {
  "kernelspec": {
   "display_name": "Python 3 (ipykernel)",
   "language": "python",
   "name": "python3"
  },
  "language_info": {
   "codemirror_mode": {
    "name": "ipython",
    "version": 3
   },
   "file_extension": ".py",
   "mimetype": "text/x-python",
   "name": "python",
   "nbconvert_exporter": "python",
   "pygments_lexer": "ipython3",
   "version": "3.8.16"
  },
  "toc": {
   "base_numbering": 1,
   "nav_menu": {},
   "number_sections": true,
   "sideBar": true,
   "skip_h1_title": false,
   "title_cell": "Table of Contents",
   "title_sidebar": "Contents",
   "toc_cell": false,
   "toc_position": {},
   "toc_section_display": true,
   "toc_window_display": false
  },
  "varInspector": {
   "cols": {
    "lenName": 16,
    "lenType": 16,
    "lenVar": 40
   },
   "kernels_config": {
    "python": {
     "delete_cmd_postfix": "",
     "delete_cmd_prefix": "del ",
     "library": "var_list.py",
     "varRefreshCmd": "print(var_dic_list())"
    },
    "r": {
     "delete_cmd_postfix": ") ",
     "delete_cmd_prefix": "rm(",
     "library": "var_list.r",
     "varRefreshCmd": "cat(var_dic_list()) "
    }
   },
   "types_to_exclude": [
    "module",
    "function",
    "builtin_function_or_method",
    "instance",
    "_Feature"
   ],
   "window_display": false
  }
 },
 "nbformat": 4,
 "nbformat_minor": 5
}
