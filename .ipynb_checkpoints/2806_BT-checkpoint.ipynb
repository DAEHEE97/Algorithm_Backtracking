{
 "cells": [
  {
   "cell_type": "markdown",
   "id": "0b421d10",
   "metadata": {},
   "source": [
    "# [2806. N-Queen](https://swexpertacademy.com/main/code/problem/problemDetail.do?contestProbId=AWIeRZV6kBUDFAVH)"
   ]
  },
  {
   "cell_type": "code",
   "execution_count": null,
   "id": "f5dbbcc4",
   "metadata": {},
   "outputs": [],
   "source": [
    "def dfs(n):\n",
    "    \n",
    "    global ans\n",
    "    \n",
    "    if n == N:\n",
    "        ans += 1\n",
    "        return\n",
    "     \n",
    "    for j in range(N):\n",
    "        \n",
    "        if v1[j]==v2[n+j]==v3[n-j] == 0:\n",
    "            \n",
    "            v1[j] = v2[n+j] = v3[n-j] = 1\n",
    "            \n",
    "            dfs(n+1)\n",
    "            \n",
    "            v1[j] = v2[n+j] = v3[n-j] = 0\n",
    " \n"
   ]
  },
  {
   "cell_type": "code",
   "execution_count": null,
   "id": "db6993ed",
   "metadata": {},
   "outputs": [],
   "source": [
    "T = int(input())\n",
    "\n",
    "for test_case in range(1, T + 1):\n",
    "    \n",
    "    N = int(input())\n",
    "    \n",
    "    ans = 0\n",
    "    \n",
    "    v1,v2,v3 = [[0]*(2*N) for _ in range(3)]\n",
    "    \n",
    "    dfs(0)\n",
    "    \n",
    "    print(f'#{test_case} {ans}')"
   ]
  }
 ],
 "metadata": {
  "kernelspec": {
   "display_name": "Python 3 (ipykernel)",
   "language": "python",
   "name": "python3"
  },
  "language_info": {
   "codemirror_mode": {
    "name": "ipython",
    "version": 3
   },
   "file_extension": ".py",
   "mimetype": "text/x-python",
   "name": "python",
   "nbconvert_exporter": "python",
   "pygments_lexer": "ipython3",
   "version": "3.8.16"
  },
  "toc": {
   "base_numbering": 1,
   "nav_menu": {},
   "number_sections": true,
   "sideBar": true,
   "skip_h1_title": false,
   "title_cell": "Table of Contents",
   "title_sidebar": "Contents",
   "toc_cell": false,
   "toc_position": {},
   "toc_section_display": true,
   "toc_window_display": false
  },
  "varInspector": {
   "cols": {
    "lenName": 16,
    "lenType": 16,
    "lenVar": 40
   },
   "kernels_config": {
    "python": {
     "delete_cmd_postfix": "",
     "delete_cmd_prefix": "del ",
     "library": "var_list.py",
     "varRefreshCmd": "print(var_dic_list())"
    },
    "r": {
     "delete_cmd_postfix": ") ",
     "delete_cmd_prefix": "rm(",
     "library": "var_list.r",
     "varRefreshCmd": "cat(var_dic_list()) "
    }
   },
   "types_to_exclude": [
    "module",
    "function",
    "builtin_function_or_method",
    "instance",
    "_Feature"
   ],
   "window_display": false
  }
 },
 "nbformat": 4,
 "nbformat_minor": 5
}
