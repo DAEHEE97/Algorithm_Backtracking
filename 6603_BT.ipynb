{
 "cells": [
  {
   "cell_type": "markdown",
   "id": "d3f52ce8",
   "metadata": {},
   "source": [
    "# [6603_로또](https://www.acmicpc.net/problem/6603)"
   ]
  },
  {
   "cell_type": "markdown",
   "id": "67fe14e4",
   "metadata": {},
   "source": [
    "---"
   ]
  },
  {
   "cell_type": "markdown",
   "id": "2ee77ba6",
   "metadata": {},
   "source": [
    "## Memo\n",
    "\n",
    "- 1~49 중 6개를 고르는 로또\n",
    "\n",
    "- S 집합, len = k  \n",
    "\n",
    "- 여기서 6개를 골랐을때, 고를 수 있는 경우의 수\n",
    "\n"
   ]
  },
  {
   "cell_type": "markdown",
   "id": "f306e40b",
   "metadata": {},
   "source": [
    "애초에 한번에 입력받고 2차원으로 입력받고 2차원 배열의 크기 만큼 출력 처리"
   ]
  },
  {
   "cell_type": "markdown",
   "id": "06d32169",
   "metadata": {},
   "source": [
    "---"
   ]
  },
  {
   "cell_type": "markdown",
   "id": "ed6ee85a",
   "metadata": {},
   "source": [
    "1. 이진트리 - lst의 idx"
   ]
  },
  {
   "cell_type": "code",
   "execution_count": 1,
   "id": "32c9a290",
   "metadata": {},
   "outputs": [],
   "source": [
    "def dfs(n, tmp):\n",
    "    \n",
    "    \n",
    "    # lst의 idx가 마지막 N이 되면 종료 \n",
    "    # 시작 idx = 0 \n",
    "    if n == N:\n",
    "        \n",
    "        if len(tmp) == 6:\n",
    "            ans.append(tmp)\n",
    "        return\n",
    "    \n",
    "    dfs(n+1, tmp + [l[n]] )\n",
    "    \n",
    "    dfs(n+1, tmp )"
   ]
  },
  {
   "cell_type": "code",
   "execution_count": 2,
   "id": "38c9c0b2",
   "metadata": {},
   "outputs": [
    {
     "name": "stdout",
     "output_type": "stream",
     "text": [
      "7 1 2 3 4 5 6 7\n"
     ]
    }
   ],
   "source": [
    "lst = list(map(int, input().split()))\n",
    "\n",
    "N = lst[0] # N개\n",
    "\n",
    "l = lst[1:]\n",
    "\n",
    "l.sort()\n",
    "\n",
    "ans = []\n",
    "\n",
    "# 0번 idx 부터 처리 \n",
    "\n",
    "dfs(0, [])\n"
   ]
  },
  {
   "cell_type": "code",
   "execution_count": 3,
   "id": "2add379f",
   "metadata": {},
   "outputs": [
    {
     "data": {
      "text/plain": [
       "[[1, 2, 3, 4, 5, 6],\n",
       " [1, 2, 3, 4, 5, 7],\n",
       " [1, 2, 3, 4, 6, 7],\n",
       " [1, 2, 3, 5, 6, 7],\n",
       " [1, 2, 4, 5, 6, 7],\n",
       " [1, 3, 4, 5, 6, 7],\n",
       " [2, 3, 4, 5, 6, 7]]"
      ]
     },
     "execution_count": 3,
     "metadata": {},
     "output_type": "execute_result"
    }
   ],
   "source": [
    "ans"
   ]
  },
  {
   "cell_type": "markdown",
   "id": "85ba0934",
   "metadata": {},
   "source": [
    "---"
   ]
  },
  {
   "cell_type": "markdown",
   "id": "f14df55d",
   "metadata": {},
   "source": [
    "2. 열트리 - lst의 개수 "
   ]
  },
  {
   "cell_type": "code",
   "execution_count": 4,
   "id": "42e3b573",
   "metadata": {},
   "outputs": [],
   "source": [
    "# n은 lst의 개수 \n",
    "\n",
    "def dfs(n, tmp, start):\n",
    "    \n",
    "    \n",
    "    if n == 6:\n",
    "        \n",
    "        ans.append(tmp)\n",
    "        \n",
    "        return\n",
    "    \n",
    "    \n",
    "    # 2-1) 중복 불가\n",
    "    # 2-2) 중복 수열 불가 \n",
    "    \n",
    "    # start 변수로 한번에 처리\n",
    "        \n",
    "    for j in range(start, N):\n",
    "        \n",
    "        dfs( n+1, tmp+[l[j]], j+1 )\n",
    "        \n",
    "    \n",
    "    "
   ]
  },
  {
   "cell_type": "code",
   "execution_count": 5,
   "id": "06b9d32c",
   "metadata": {},
   "outputs": [
    {
     "name": "stdout",
     "output_type": "stream",
     "text": [
      "7 1 2 3 4 5 6 7\n"
     ]
    }
   ],
   "source": [
    "lst = list(map(int, input().split()))\n",
    "\n",
    "N = lst[0] # N개\n",
    "\n",
    "l = lst[1:]\n",
    "\n",
    "v = [0] * N\n",
    "\n",
    "ans = []\n",
    "\n",
    "# 0번 idx 부터 처리 \n",
    "\n",
    "dfs(0, [], 0)\n"
   ]
  },
  {
   "cell_type": "code",
   "execution_count": 6,
   "id": "0de3d721",
   "metadata": {},
   "outputs": [
    {
     "data": {
      "text/plain": [
       "[[1, 2, 3, 4, 5, 6],\n",
       " [1, 2, 3, 4, 5, 7],\n",
       " [1, 2, 3, 4, 6, 7],\n",
       " [1, 2, 3, 5, 6, 7],\n",
       " [1, 2, 4, 5, 6, 7],\n",
       " [1, 3, 4, 5, 6, 7],\n",
       " [2, 3, 4, 5, 6, 7]]"
      ]
     },
     "execution_count": 6,
     "metadata": {},
     "output_type": "execute_result"
    }
   ],
   "source": [
    "ans"
   ]
  },
  {
   "cell_type": "markdown",
   "id": "3ec83ec0",
   "metadata": {},
   "source": [
    "---"
   ]
  },
  {
   "cell_type": "code",
   "execution_count": null,
   "id": "2da9c6c7",
   "metadata": {},
   "outputs": [],
   "source": [
    "# 문제 조건 처리\n",
    "while (True):\n",
    "    \n",
    "    lst = list(map(int, input().split()))\n",
    "    \n",
    "    if lst[0] == 0:\n",
    "        break"
   ]
  },
  {
   "cell_type": "markdown",
   "id": "40df1704",
   "metadata": {},
   "source": []
  },
  {
   "cell_type": "markdown",
   "id": "8bcf15eb",
   "metadata": {},
   "source": []
  }
 ],
 "metadata": {
  "kernelspec": {
   "display_name": "Python 3 (ipykernel)",
   "language": "python",
   "name": "python3"
  },
  "language_info": {
   "codemirror_mode": {
    "name": "ipython",
    "version": 3
   },
   "file_extension": ".py",
   "mimetype": "text/x-python",
   "name": "python",
   "nbconvert_exporter": "python",
   "pygments_lexer": "ipython3",
   "version": "3.8.16"
  },
  "toc": {
   "base_numbering": 1,
   "nav_menu": {},
   "number_sections": true,
   "sideBar": true,
   "skip_h1_title": false,
   "title_cell": "Table of Contents",
   "title_sidebar": "Contents",
   "toc_cell": false,
   "toc_position": {},
   "toc_section_display": true,
   "toc_window_display": false
  },
  "varInspector": {
   "cols": {
    "lenName": 16,
    "lenType": 16,
    "lenVar": 40
   },
   "kernels_config": {
    "python": {
     "delete_cmd_postfix": "",
     "delete_cmd_prefix": "del ",
     "library": "var_list.py",
     "varRefreshCmd": "print(var_dic_list())"
    },
    "r": {
     "delete_cmd_postfix": ") ",
     "delete_cmd_prefix": "rm(",
     "library": "var_list.r",
     "varRefreshCmd": "cat(var_dic_list()) "
    }
   },
   "types_to_exclude": [
    "module",
    "function",
    "builtin_function_or_method",
    "instance",
    "_Feature"
   ],
   "window_display": false
  }
 },
 "nbformat": 4,
 "nbformat_minor": 5
}
