{
 "cells": [
  {
   "cell_type": "markdown",
   "id": "1195a1d8",
   "metadata": {},
   "source": [
    "# 부분수열의 합"
   ]
  },
  {
   "cell_type": "code",
   "execution_count": null,
   "id": "ab0cefa0",
   "metadata": {},
   "outputs": [],
   "source": []
  },
  {
   "cell_type": "code",
   "execution_count": null,
   "id": "944536af",
   "metadata": {},
   "outputs": [],
   "source": []
  },
  {
   "cell_type": "markdown",
   "id": "df70814e",
   "metadata": {},
   "source": [
    "1. 이진트리, n은 배열의 idx \n",
    "\n",
    "- 크기가 양수인 부분수열 중에서 그 수열의 원소를 다 더한 값이 S가 되는 경우의 수\n",
    "- cnt를 하지 않으면, 처음에 s 를 0으로 입력시 바로 cnt 해서 +1 추가 되서 출력됨"
   ]
  },
  {
   "cell_type": "code",
   "execution_count": 8,
   "id": "ef347f4e",
   "metadata": {},
   "outputs": [],
   "source": [
    "def dfs(n, s, cnt):\n",
    "    \n",
    "    \n",
    "    global ans\n",
    "    \n",
    "\n",
    "    # 1. 종료조건 n은 배열dml idx\n",
    "    \n",
    "    if n == N:\n",
    "        \n",
    "        if s == S and cnt > 0:\n",
    "            ans += 1\n",
    "    \n",
    "        return\n",
    "    \n",
    "    # 2. 하부 함수 호출, 이진트리\n",
    "    dfs(n+1, s+lst[n], cnt+1)\n",
    "    \n",
    "    dfs(n+1, s, cnt)\n",
    "    \n",
    "    \n",
    "    "
   ]
  },
  {
   "cell_type": "code",
   "execution_count": 9,
   "id": "180bc1e5",
   "metadata": {},
   "outputs": [
    {
     "name": "stdout",
     "output_type": "stream",
     "text": [
      "5 0\n",
      "-7 -3 -2 5 8\n"
     ]
    }
   ],
   "source": [
    "\n",
    "\n",
    "\n",
    "N, S = map(int, input().split())\n",
    "\n",
    "lst = list(map(int, input().split()))\n",
    "\n",
    "#  부분수열 중에서 그 수열의 원소를 다 더한 값이 S가 되는 경우의 수\n",
    "\n",
    "ans = 0\n",
    "\n",
    "dfs(0, 0, 0)\n",
    "\n",
    "print(ans)"
   ]
  },
  {
   "cell_type": "code",
   "execution_count": 10,
   "id": "b9571dbc",
   "metadata": {},
   "outputs": [
    {
     "data": {
      "text/plain": [
       "1"
      ]
     },
     "execution_count": 10,
     "metadata": {},
     "output_type": "execute_result"
    }
   ],
   "source": [
    "ans"
   ]
  },
  {
   "cell_type": "code",
   "execution_count": null,
   "id": "ad985849",
   "metadata": {},
   "outputs": [],
   "source": []
  }
 ],
 "metadata": {
  "kernelspec": {
   "display_name": "Python 3 (ipykernel)",
   "language": "python",
   "name": "python3"
  },
  "language_info": {
   "codemirror_mode": {
    "name": "ipython",
    "version": 3
   },
   "file_extension": ".py",
   "mimetype": "text/x-python",
   "name": "python",
   "nbconvert_exporter": "python",
   "pygments_lexer": "ipython3",
   "version": "3.8.16"
  },
  "toc": {
   "base_numbering": 1,
   "nav_menu": {},
   "number_sections": true,
   "sideBar": true,
   "skip_h1_title": false,
   "title_cell": "Table of Contents",
   "title_sidebar": "Contents",
   "toc_cell": false,
   "toc_position": {},
   "toc_section_display": true,
   "toc_window_display": false
  },
  "varInspector": {
   "cols": {
    "lenName": 16,
    "lenType": 16,
    "lenVar": 40
   },
   "kernels_config": {
    "python": {
     "delete_cmd_postfix": "",
     "delete_cmd_prefix": "del ",
     "library": "var_list.py",
     "varRefreshCmd": "print(var_dic_list())"
    },
    "r": {
     "delete_cmd_postfix": ") ",
     "delete_cmd_prefix": "rm(",
     "library": "var_list.r",
     "varRefreshCmd": "cat(var_dic_list()) "
    }
   },
   "types_to_exclude": [
    "module",
    "function",
    "builtin_function_or_method",
    "instance",
    "_Feature"
   ],
   "window_display": false
  }
 },
 "nbformat": 4,
 "nbformat_minor": 5
}
