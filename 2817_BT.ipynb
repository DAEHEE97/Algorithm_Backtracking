{
 "cells": [
  {
   "cell_type": "markdown",
   "id": "12216a63",
   "metadata": {},
   "source": [
    "# [2817. 부분 수열의 합](https://swexpertacademy.com/main/code/problem/problemDetail.do?contestProbId=AV7IzvG6EksDFAXB)\n",
    "\n"
   ]
  },
  {
   "cell_type": "markdown",
   "id": "e445ab47",
   "metadata": {},
   "source": [
    "---"
   ]
  },
  {
   "cell_type": "markdown",
   "id": "23b9c477",
   "metadata": {},
   "source": [
    "A1, A2, ... , AN의 N개의 자연수가 주어졌을 때, 최소 1개 이상의 수를 선택하여 그 합이 K가 되는 경우의 수를 구하는 프로그램을 작성하시오.\n"
   ]
  },
  {
   "cell_type": "markdown",
   "id": "3cc3d082",
   "metadata": {},
   "source": [
    "---"
   ]
  },
  {
   "cell_type": "markdown",
   "id": "3574f61d",
   "metadata": {},
   "source": [
    "## BackTracking\n",
    "\n",
    "- 가능한 모든 경우 처리, 정답,\n",
    "\n",
    "- n은 lst idx 0,1,2,3,4 , 합 연산에 포함 할지 안할지\n",
    "\n",
    "- 이진 트리 형태 "
   ]
  },
  {
   "cell_type": "markdown",
   "id": "73d38525",
   "metadata": {},
   "source": [
    "---"
   ]
  },
  {
   "cell_type": "code",
   "execution_count": 7,
   "id": "b496044d",
   "metadata": {},
   "outputs": [],
   "source": [
    "def dfs(n, s):\n",
    "    \n",
    "    \n",
    "    global ans\n",
    "    \n",
    "    # 양수만 처리 하므로\n",
    "    if s > K:\n",
    "        return \n",
    "    \n",
    "    # 3. 가지치기  idx 전부 사용하기전 합 계산 \n",
    "    if s == K:\n",
    "        ans += 1\n",
    "        return\n",
    "    \n",
    "            \n",
    "    \n",
    "    # 1. 종료조건, 가능한 모든 경우 처리 \n",
    "    # 여기서 n은 n번연산이 아니라, n idx를 포함 할지 안할지\n",
    "    if n == N:\n",
    "        if s == K:\n",
    "            ans += 1\n",
    "        \n",
    "        return\n",
    "    \n",
    "    \n",
    "    # 2. 하부 함수 처리 이진 트리 형태\n",
    "    dfs(n+1, s+lst[n]) # 선택 o \n",
    "    \n",
    "    dfs(n+1, s) # 선택 x\n",
    "    \n",
    "    "
   ]
  },
  {
   "cell_type": "code",
   "execution_count": 8,
   "id": "8c3af024",
   "metadata": {},
   "outputs": [
    {
     "name": "stdout",
     "output_type": "stream",
     "text": [
      "1\n",
      "4 3\n",
      "1 2 1 2\n"
     ]
    }
   ],
   "source": [
    "T = int(input())\n",
    "\n",
    "for t in range(1, T+1):\n",
    "    \n",
    "    N, K = map(int, input().split())\n",
    "    \n",
    "    lst = list(map(int, input().split()))\n",
    "    \n",
    "    ans = 0\n",
    "    \n",
    "    dfs(0, 0)\n",
    "    \n",
    "    \n",
    "    print(f'#{t} {ans}')\n",
    "\n",
    "    "
   ]
  },
  {
   "cell_type": "code",
   "execution_count": 9,
   "id": "a3529347",
   "metadata": {},
   "outputs": [
    {
     "data": {
      "text/plain": [
       "4"
      ]
     },
     "execution_count": 9,
     "metadata": {},
     "output_type": "execute_result"
    }
   ],
   "source": [
    "ans"
   ]
  },
  {
   "cell_type": "markdown",
   "id": "892b6149",
   "metadata": {},
   "source": [
    "---"
   ]
  },
  {
   "cell_type": "markdown",
   "id": "7663fcf2",
   "metadata": {},
   "source": [
    "## combinations"
   ]
  },
  {
   "cell_type": "code",
   "execution_count": 1,
   "id": "bcf1c275",
   "metadata": {},
   "outputs": [
    {
     "name": "stdout",
     "output_type": "stream",
     "text": [
      "1\n",
      "4 3\n",
      "1 2 1 2\n",
      "#1 4\n"
     ]
    }
   ],
   "source": [
    "from itertools import combinations\n",
    "\n",
    "T = int(input())\n",
    "\n",
    "for t in range(1, T+1):\n",
    "    \n",
    "    N, K = map(int, input().split())\n",
    "    \n",
    "    lst = list(map(int, input().split()))\n",
    "    \n",
    "    ans = 0\n",
    "    \n",
    "    for i in range(1, N+1):\n",
    "        \n",
    "        for tup in combinations(lst, i):\n",
    "            \n",
    "            if sum(tup) == K:\n",
    "                ans += 1\n",
    "                \n",
    "    \n",
    "    print(f'#{t} {ans}')\n",
    "        \n",
    "        "
   ]
  }
 ],
 "metadata": {
  "kernelspec": {
   "display_name": "Python 3 (ipykernel)",
   "language": "python",
   "name": "python3"
  },
  "language_info": {
   "codemirror_mode": {
    "name": "ipython",
    "version": 3
   },
   "file_extension": ".py",
   "mimetype": "text/x-python",
   "name": "python",
   "nbconvert_exporter": "python",
   "pygments_lexer": "ipython3",
   "version": "3.8.16"
  },
  "toc": {
   "base_numbering": 1,
   "nav_menu": {},
   "number_sections": true,
   "sideBar": true,
   "skip_h1_title": false,
   "title_cell": "Table of Contents",
   "title_sidebar": "Contents",
   "toc_cell": false,
   "toc_position": {},
   "toc_section_display": true,
   "toc_window_display": false
  },
  "varInspector": {
   "cols": {
    "lenName": 16,
    "lenType": 16,
    "lenVar": 40
   },
   "kernels_config": {
    "python": {
     "delete_cmd_postfix": "",
     "delete_cmd_prefix": "del ",
     "library": "var_list.py",
     "varRefreshCmd": "print(var_dic_list())"
    },
    "r": {
     "delete_cmd_postfix": ") ",
     "delete_cmd_prefix": "rm(",
     "library": "var_list.r",
     "varRefreshCmd": "cat(var_dic_list()) "
    }
   },
   "types_to_exclude": [
    "module",
    "function",
    "builtin_function_or_method",
    "instance",
    "_Feature"
   ],
   "window_display": false
  }
 },
 "nbformat": 4,
 "nbformat_minor": 5
}
