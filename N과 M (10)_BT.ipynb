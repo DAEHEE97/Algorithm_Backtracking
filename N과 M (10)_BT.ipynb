{
 "cells": [
  {
   "cell_type": "markdown",
   "id": "a8b9e1a3",
   "metadata": {},
   "source": [
    "# [N과 M (10)_BT](https://www.acmicpc.net/problem/15664)"
   ]
  },
  {
   "cell_type": "markdown",
   "id": "03b1a8dd",
   "metadata": {},
   "source": [
    "---"
   ]
  },
  {
   "cell_type": "markdown",
   "id": "5f89766b",
   "metadata": {},
   "source": [
    "## 열 트리\n",
    "\n",
    "- 가능한 모든 경우의 수 처리, (같은 idx j 를 여러번 골라도 됨) - idx 0, idx 0 가능\n",
    "\n",
    "- 선택 가능한 j 열 조건, start 변수를 이용해서 다음 꺼 부터 처리 \n",
    "\n",
    "- 중복되는 수열 불가 - prev 처리, 이전 값\n",
    "\n"
   ]
  },
  {
   "cell_type": "code",
   "execution_count": 8,
   "id": "7ed1892e",
   "metadata": {},
   "outputs": [],
   "source": [
    "def dfs(n, tmp, start):\n",
    "\n",
    "    if n == M:\n",
    "        \n",
    "        ans.append(tmp)\n",
    "        return\n",
    "\n",
    "\n",
    "    \n",
    "    # 2-1) start 처리, 다음 턴 j는 start idx, j+1 부터 처리\n",
    "    \n",
    "    # 2-2) prev, 중복되는 수열 처리 \n",
    "        \n",
    "    prev = 0\n",
    "    \n",
    "    for j in range(start, N):\n",
    "        \n",
    "        if prev != lst[j]:\n",
    "            \n",
    "            dfs(n+1, tmp+[lst[j]], j+1)\n",
    "            \n",
    "            prev = lst[j]"
   ]
  },
  {
   "cell_type": "code",
   "execution_count": 9,
   "id": "b3f6b235",
   "metadata": {},
   "outputs": [
    {
     "name": "stdout",
     "output_type": "stream",
     "text": [
      "4 2\n",
      "1 1 9 9\n",
      "1 1\n",
      "1 9\n",
      "9 9\n"
     ]
    }
   ],
   "source": [
    "N, M = map(int, input().split())\n",
    "\n",
    "lst = list(map(int, input().split()))\n",
    "\n",
    "lst.sort()\n",
    "\n",
    "ans = []\n",
    "\n",
    "dfs(0, [], 0)\n",
    "\n",
    "for l in ans:\n",
    "    print(*l)"
   ]
  },
  {
   "cell_type": "markdown",
   "id": "cd2c7fab",
   "metadata": {},
   "source": [
    "---"
   ]
  },
  {
   "cell_type": "markdown",
   "id": "cd2badb3",
   "metadata": {},
   "source": [
    "## 열 트리, v\n",
    "\n",
    "- v 방문 처리 리스트는, 중복 열을 제외 시켜줌\n",
    "- start 변수를 이용한 j열 처리로, j+1로 처리되므로, 어차피 제외됨"
   ]
  },
  {
   "cell_type": "code",
   "execution_count": 3,
   "id": "798cce15",
   "metadata": {},
   "outputs": [],
   "source": [
    "# 0 1 2 3\n",
    "# 1 7 9 9\n",
    "\n",
    "def dfs(n, tmp, start):\n",
    "    \n",
    "    if n == M:\n",
    "        ans.append(tmp)\n",
    "        return\n",
    "\n",
    "    # 2-1) v lst, 중복되는 idx 처리\n",
    "    \n",
    "    # 2-2) start 처리, 다음 턴 j는 start idx, j+1 부터 처리\n",
    "    \n",
    "    # 2-3) prev, 중복되는 수열 처리 \n",
    "    \n",
    "    \n",
    "    # --- \n",
    "    \n",
    "    # start 처리,  j 이후, j+1 로 이동\n",
    "    # v 처리 안해도 됨, \n",
    "    \n",
    "    # 만약 start 처리를 안하고 v처리만 하면, \n",
    "    # 7,1 도 출력, 7 선택 후, 뒤로 감 - N,M(9)\n",
    "    \n",
    "    prev = 0\n",
    "    \n",
    "    for j in range(start, N):\n",
    "        \n",
    "        if v[j] == 0 and prev != lst[j]:\n",
    "            \n",
    "            v[j] = 1\n",
    "            \n",
    "            prev = lst[j]\n",
    "\n",
    "            dfs(n+1, tmp+[lst[j]], j+1)\n",
    "            \n",
    "            v[j] = 0\n",
    "\n"
   ]
  },
  {
   "cell_type": "code",
   "execution_count": 5,
   "id": "1b4ecedc",
   "metadata": {},
   "outputs": [
    {
     "name": "stdout",
     "output_type": "stream",
     "text": [
      "4 2\n",
      "9 7 9 1\n",
      "1 7\n",
      "1 9\n",
      "7 9\n",
      "9 9\n"
     ]
    }
   ],
   "source": [
    "N, M = map(int, input().split())\n",
    "\n",
    "lst = sorted(list(map(int, input().split())))\n",
    "\n",
    "ans = []\n",
    "\n",
    "v = [0] * N\n",
    "\n",
    "dfs(0, [], 0)\n",
    "\n",
    "for l in ans:\n",
    "    print(*l)"
   ]
  },
  {
   "cell_type": "markdown",
   "id": "1a902cb2",
   "metadata": {},
   "source": [
    "---"
   ]
  },
  {
   "cell_type": "markdown",
   "id": "cdf86b2a",
   "metadata": {},
   "source": [
    "\n",
    "## 이진 트리"
   ]
  },
  {
   "cell_type": "code",
   "execution_count": 24,
   "id": "3c7b08fd",
   "metadata": {},
   "outputs": [],
   "source": [
    "def dfs(n, tlst):\n",
    "\n",
    "    # n은 lst의 idx,\n",
    "    \n",
    "    if n == N:\n",
    "        \n",
    "        if len(tlst) == M:\n",
    "            \n",
    "            ans.append(tlst)\n",
    "        \n",
    "        return \n",
    "    \n",
    "    prev = 0\n",
    "    \n",
    "    dfs(n+1, tlst + [lst[n]] )\n",
    "    \n",
    "    dfs(n+1, tlst)"
   ]
  },
  {
   "cell_type": "code",
   "execution_count": 25,
   "id": "6f4c9e85",
   "metadata": {},
   "outputs": [
    {
     "name": "stdout",
     "output_type": "stream",
     "text": [
      "4 2\n",
      "1 7 9 9\n",
      "1 7\n",
      "1 9\n",
      "1 9\n",
      "7 9\n",
      "7 9\n",
      "9 9\n"
     ]
    }
   ],
   "source": [
    "N, M = map(int, input().split())\n",
    "\n",
    "lst = sorted(list(map(int, input().split())))\n",
    "\n",
    "ans = []\n",
    "\n",
    "\n",
    "dfs(0, [])\n",
    "\n",
    "for l in ans:\n",
    "    print(*l)\n",
    "    \n",
    "    \n",
    "# 중복 되는 수열 처리, set, 처리\n",
    "# 2차원 arr 에서, 중복되는 lst 처리 \n"
   ]
  },
  {
   "cell_type": "code",
   "execution_count": 27,
   "id": "355f9233",
   "metadata": {},
   "outputs": [
    {
     "data": {
      "text/plain": [
       "[[1, 7], [1, 9], [1, 9], [7, 9], [7, 9], [9, 9]]"
      ]
     },
     "execution_count": 27,
     "metadata": {},
     "output_type": "execute_result"
    }
   ],
   "source": [
    "ans"
   ]
  },
  {
   "cell_type": "markdown",
   "id": "f51466b5",
   "metadata": {},
   "source": [
    "---"
   ]
  },
  {
   "cell_type": "code",
   "execution_count": 30,
   "id": "9b8691c1",
   "metadata": {},
   "outputs": [
    {
     "name": "stdout",
     "output_type": "stream",
     "text": [
      "[(7, 9), (1, 7), (1, 9), (9, 9)]\n"
     ]
    }
   ],
   "source": [
    "ans = [[1, 7], [1, 9], [1, 9], [7, 9], [7, 9], [9, 9]]\n",
    "\n",
    "# 중복을 제거하기 위해 set으로 변환한 후 다시 리스트로 변환합니다.\n",
    "\n",
    "# set에 add 하기 위해서, lst to tuple 형으로 변경 후, 다시 처리\n",
    "\n",
    "\n",
    "new_ans = list(set(tuple(lst) for lst in ans))\n",
    "\n",
    "\n",
    "# unique_ans에 중복이 제거된 결과가 저장됩니다.\n",
    "print(new_ans)\n"
   ]
  },
  {
   "cell_type": "code",
   "execution_count": 31,
   "id": "e4077e03",
   "metadata": {},
   "outputs": [
    {
     "name": "stdout",
     "output_type": "stream",
     "text": [
      "[[1, 7], [1, 9], [7, 9], [9, 9]]\n"
     ]
    }
   ],
   "source": [
    "ans = [[1, 7], [1, 9], [1, 9], [7, 9], [7, 9], [9, 9]]\n",
    "\n",
    "# 중복을 제거할 빈 리스트를 생성합니다.\n",
    "new_ans = []\n",
    "\n",
    "# ans의 각 요소를 순회하면서 중복을 제거합니다.\n",
    "for lst in ans:\n",
    "    \n",
    "    if lst not in new_ans:\n",
    "        new_ans.append(lst)\n",
    "\n",
    "# unique_ans에 중복이 제거된 결과가 저장됩니다.\n",
    "print(new_ans)\n"
   ]
  },
  {
   "cell_type": "markdown",
   "id": "9eec4d24",
   "metadata": {},
   "source": [
    "---"
   ]
  },
  {
   "cell_type": "markdown",
   "id": "9cace1b5",
   "metadata": {},
   "source": [
    "중복된 요소를 제거하는 데 대한 시간복잡도와 공간복잡도에 대한 고려를 하면, `set`을 사용한 방법이 더 효율적\n",
    "\n",
    "1. **시간복잡도**:\n",
    "   - `set`을 사용한 방법은 중복된 요소를 자동으로 제거하고, 그 결과를 리스트로 변환하는 단계만 있으므로 중복 제거 과정은 선형 시간복잡도(O(n))에 해당합니다. 여기서 n은 입력 리스트의 길이입니다.\n",
    "   \n",
    "   - 반면에 반복문을 사용하여 중복을 수동으로 찾고 제거하는 방법은 중첩된 반복문을 사용해야 하며, 이 경우 시간복잡도는 O(n^2)이 될 수 있습니다. 따라서 `set`을 사용한 방법이 훨씬 빠릅니다.\n",
    "\n",
    "2. **공간복잡도**:\n",
    "   - `set`을 사용한 방법은 중복된 요소를 저장할 임시 데이터 구조인 `set`을 사용하므로 공간복잡도는 O(n)입니다. 입력 리스트의 길이와 동일한 공간을 차지합니다.\n",
    "   \n",
    "   - 반면에 수동으로 중복을 찾고 제거하는 방법은 중복된 요소를 저장하는 별도의 리스트를 생성해야 하므로 공간복잡도도 O(n)입니다. 따라서 공간복잡도 측면에서는 차이가 없습니다.\n",
    "\n",
    "종합적으로, `set`을 사용한 방법이 더 효율적이며, 코드도 더 간결합니다. 따라서 중복된 요소를 제거하는데 있어서 `set`을 사용하는 것이 권장됩니다."
   ]
  }
 ],
 "metadata": {
  "kernelspec": {
   "display_name": "Python 3 (ipykernel)",
   "language": "python",
   "name": "python3"
  },
  "language_info": {
   "codemirror_mode": {
    "name": "ipython",
    "version": 3
   },
   "file_extension": ".py",
   "mimetype": "text/x-python",
   "name": "python",
   "nbconvert_exporter": "python",
   "pygments_lexer": "ipython3",
   "version": "3.8.16"
  },
  "toc": {
   "base_numbering": 1,
   "nav_menu": {},
   "number_sections": true,
   "sideBar": true,
   "skip_h1_title": false,
   "title_cell": "Table of Contents",
   "title_sidebar": "Contents",
   "toc_cell": false,
   "toc_position": {},
   "toc_section_display": true,
   "toc_window_display": false
  },
  "varInspector": {
   "cols": {
    "lenName": 16,
    "lenType": 16,
    "lenVar": 40
   },
   "kernels_config": {
    "python": {
     "delete_cmd_postfix": "",
     "delete_cmd_prefix": "del ",
     "library": "var_list.py",
     "varRefreshCmd": "print(var_dic_list())"
    },
    "r": {
     "delete_cmd_postfix": ") ",
     "delete_cmd_prefix": "rm(",
     "library": "var_list.r",
     "varRefreshCmd": "cat(var_dic_list()) "
    }
   },
   "types_to_exclude": [
    "module",
    "function",
    "builtin_function_or_method",
    "instance",
    "_Feature"
   ],
   "window_display": false
  }
 },
 "nbformat": 4,
 "nbformat_minor": 5
}
