{
 "cells": [
  {
   "cell_type": "markdown",
   "id": "147914d3",
   "metadata": {},
   "source": [
    "# 5188. [파이썬 S/W 문제해결 구현] 2일차 - 최소합\n",
    "\n",
    "- 파이썬 SW문제해결 응용_구현 - 02 완전 검색\n"
   ]
  },
  {
   "cell_type": "markdown",
   "id": "5a70718d",
   "metadata": {},
   "source": [
    "---"
   ]
  },
  {
   "cell_type": "markdown",
   "id": "fb31beb0",
   "metadata": {},
   "source": [
    "\n",
    "3\n",
    "3\n",
    "1 2 3\n",
    "2 3 4\n",
    "3 4 5\n",
    "\n",
    "4\n",
    "2 4 1 3\n",
    "1 1 7 1\n",
    "9 1 7 10\n",
    "5 7 2 4\n",
    "\n",
    "5\n",
    "6 7 1 10 2\n",
    "10 2 7 5 9\n",
    "9 3 2 9 6\n",
    "1 6 8 2 9\n",
    "8 3 8 2 1"
   ]
  },
  {
   "cell_type": "markdown",
   "id": "22fece9f",
   "metadata": {},
   "source": [
    "가능한 모든 경우의 수를 lst에 담거나, 최소 값을 갱신하면서 처리"
   ]
  },
  {
   "cell_type": "markdown",
   "id": "4a99082d",
   "metadata": {},
   "source": [
    "---"
   ]
  },
  {
   "cell_type": "code",
   "execution_count": null,
   "id": "25b773d4",
   "metadata": {},
   "outputs": [],
   "source": [
    "T = int(input())\n",
    "\n",
    "for t in range(1, T+1):\n",
    "    \n",
    "    N = int(input())\n",
    "    \n",
    "    arr = [ list(map(int, input().split())) for _ in range(N) ]\n",
    "    \n",
    "    \n",
    "    \n",
    "    "
   ]
  }
 ],
 "metadata": {
  "kernelspec": {
   "display_name": "Python 3 (ipykernel)",
   "language": "python",
   "name": "python3"
  },
  "language_info": {
   "codemirror_mode": {
    "name": "ipython",
    "version": 3
   },
   "file_extension": ".py",
   "mimetype": "text/x-python",
   "name": "python",
   "nbconvert_exporter": "python",
   "pygments_lexer": "ipython3",
   "version": "3.8.16"
  },
  "toc": {
   "base_numbering": 1,
   "nav_menu": {},
   "number_sections": true,
   "sideBar": true,
   "skip_h1_title": false,
   "title_cell": "Table of Contents",
   "title_sidebar": "Contents",
   "toc_cell": false,
   "toc_position": {},
   "toc_section_display": true,
   "toc_window_display": false
  },
  "varInspector": {
   "cols": {
    "lenName": 16,
    "lenType": 16,
    "lenVar": 40
   },
   "kernels_config": {
    "python": {
     "delete_cmd_postfix": "",
     "delete_cmd_prefix": "del ",
     "library": "var_list.py",
     "varRefreshCmd": "print(var_dic_list())"
    },
    "r": {
     "delete_cmd_postfix": ") ",
     "delete_cmd_prefix": "rm(",
     "library": "var_list.r",
     "varRefreshCmd": "cat(var_dic_list()) "
    }
   },
   "types_to_exclude": [
    "module",
    "function",
    "builtin_function_or_method",
    "instance",
    "_Feature"
   ],
   "window_display": false
  }
 },
 "nbformat": 4,
 "nbformat_minor": 5
}
