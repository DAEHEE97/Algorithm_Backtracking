{
 "cells": [
  {
   "cell_type": "markdown",
   "id": "6cea2a4e",
   "metadata": {},
   "source": [
    "# [연산자 끼워넣기](https://www.acmicpc.net/problem/14888)\n"
   ]
  },
  {
   "cell_type": "markdown",
   "id": "ab63806b",
   "metadata": {},
   "source": [
    "---"
   ]
  },
  {
   "cell_type": "markdown",
   "id": "78502d1e",
   "metadata": {},
   "source": [
    "## Memo\n",
    "\n",
    "- 가능한 모든 경우의 수 처리 > 정답 처리\n",
    "\n",
    "- 연산 결과를 앞에서 부터 처리\n",
    "\n",
    "- n 은 연산 \n",
    "\n"
   ]
  },
  {
   "cell_type": "code",
   "execution_count": null,
   "id": "7b47dd66",
   "metadata": {},
   "outputs": [],
   "source": [
    " 즉, 양수로 바꾼 뒤 몫을 취하고, 그 몫을 음수로 바꾼 것과 같다"
   ]
  },
  {
   "cell_type": "code",
   "execution_count": 35,
   "id": "04845faa",
   "metadata": {},
   "outputs": [],
   "source": [
    "def dfs(n, num, add, sub, mul, div):\n",
    "    \n",
    "    \n",
    "    global ans_max\n",
    "    global ans_min\n",
    "    \n",
    "    \n",
    "    \n",
    "    # 종료 조건\n",
    "    \n",
    "    if n == N:\n",
    "        \n",
    "        ans_max = max(num, ans_max)\n",
    "        ans_min = min(num, ans_min)\n",
    "        \n",
    "        return\n",
    "    \n",
    "    \n",
    "    # not 0 \n",
    "    if add:\n",
    "        dfs(n+1, num+lst[n], add-1, sub, mul, div)\n",
    "    \n",
    "    if sub:\n",
    "        dfs(n+1, num-lst[n], add, sub-1, mul, div)\n",
    "        \n",
    "    if mul:\n",
    "        dfs(n+1, num*lst[n], add, sub, mul-1, div)\n",
    "        \n",
    "    if div:\n",
    "        dfs(n+1, int(num / lst[n]), add, sub, mul, div-1)"
   ]
  },
  {
   "cell_type": "markdown",
   "id": "5be19cbc",
   "metadata": {},
   "source": [
    "---"
   ]
  },
  {
   "cell_type": "code",
   "execution_count": 39,
   "id": "35bbb104",
   "metadata": {},
   "outputs": [
    {
     "name": "stdout",
     "output_type": "stream",
     "text": [
      "6\n",
      "1 2 3 4 5 6\n",
      "2 1 1 1\n",
      "54\n",
      "-24\n"
     ]
    }
   ],
   "source": [
    "N = int(input())\n",
    "\n",
    "lst = list(map(int, input().split()))\n",
    " \n",
    "add, sub, mul, div = map(int, input().split())\n",
    "\n",
    "\n",
    "# -10억보다 크거나 같고, 10억보다 작거나 같은 결과\n",
    "ans_max = - int(1e9) # -1000000000\n",
    "ans_min = int(1e9)   # 1000000000\n",
    "\n",
    "dfs(1, lst[0], add, sub, mul, div)\n",
    "\n",
    "print(ans_max)\n",
    "print(ans_min)"
   ]
  },
  {
   "cell_type": "code",
   "execution_count": 19,
   "id": "d2312ed3",
   "metadata": {},
   "outputs": [
    {
     "data": {
      "text/plain": [
       "(52.0, -21.0)"
      ]
     },
     "execution_count": 19,
     "metadata": {},
     "output_type": "execute_result"
    }
   ],
   "source": [
    "ans_max,ans_min\n"
   ]
  },
  {
   "cell_type": "code",
   "execution_count": 20,
   "id": "3c04cfed",
   "metadata": {},
   "outputs": [
    {
     "data": {
      "text/plain": [
       "0"
      ]
     },
     "execution_count": 20,
     "metadata": {},
     "output_type": "execute_result"
    }
   ],
   "source": [
    "int(0.5)"
   ]
  },
  {
   "cell_type": "code",
   "execution_count": null,
   "id": "4725daa0",
   "metadata": {},
   "outputs": [],
   "source": []
  }
 ],
 "metadata": {
  "kernelspec": {
   "display_name": "Python 3 (ipykernel)",
   "language": "python",
   "name": "python3"
  },
  "language_info": {
   "codemirror_mode": {
    "name": "ipython",
    "version": 3
   },
   "file_extension": ".py",
   "mimetype": "text/x-python",
   "name": "python",
   "nbconvert_exporter": "python",
   "pygments_lexer": "ipython3",
   "version": "3.8.16"
  },
  "toc": {
   "base_numbering": 1,
   "nav_menu": {},
   "number_sections": true,
   "sideBar": true,
   "skip_h1_title": false,
   "title_cell": "Table of Contents",
   "title_sidebar": "Contents",
   "toc_cell": false,
   "toc_position": {},
   "toc_section_display": true,
   "toc_window_display": false
  },
  "varInspector": {
   "cols": {
    "lenName": 16,
    "lenType": 16,
    "lenVar": 40
   },
   "kernels_config": {
    "python": {
     "delete_cmd_postfix": "",
     "delete_cmd_prefix": "del ",
     "library": "var_list.py",
     "varRefreshCmd": "print(var_dic_list())"
    },
    "r": {
     "delete_cmd_postfix": ") ",
     "delete_cmd_prefix": "rm(",
     "library": "var_list.r",
     "varRefreshCmd": "cat(var_dic_list()) "
    }
   },
   "types_to_exclude": [
    "module",
    "function",
    "builtin_function_or_method",
    "instance",
    "_Feature"
   ],
   "window_display": false
  }
 },
 "nbformat": 4,
 "nbformat_minor": 5
}
